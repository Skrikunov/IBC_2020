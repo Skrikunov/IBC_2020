{
 "cells": [
  {
   "cell_type": "markdown",
   "metadata": {
    "id": "Nn8UiDrtNTRn"
   },
   "source": [
    "# HW 2 (due November 30 23:59 MSK)"
   ]
  },
  {
   "cell_type": "markdown",
   "metadata": {
    "id": "rfFyoVVbNTRn"
   },
   "source": [
    "### Problem 1 (1 points)"
   ]
  },
  {
   "cell_type": "markdown",
   "metadata": {
    "id": "LlPDyzAnNTRn"
   },
   "source": [
    "Diffie–Hellman key exchange protocol is one of the earliest practical examples of public key exchange implemented within the field of cryptography. Published in 1976 by Diffie and Hellman, this is the earliest publicly known work that proposed the idea of a private key and a corresponding public key. "
   ]
  },
  {
   "cell_type": "markdown",
   "metadata": {
    "id": "-uLAl3_kNTRn"
   },
   "source": [
    "1. Implement function to generate common secret key within multiplicative group of given Finite field with known generator "
   ]
  },
  {
   "cell_type": "markdown",
   "metadata": {
    "id": "xwkIpXhJNTRo"
   },
   "source": [
    "2. Test your solution in GF(17) with generator g=11. Bobs' open key B=11, Alice private key is a=7"
   ]
  },
  {
   "cell_type": "code",
   "execution_count": 1,
   "metadata": {
    "id": "YpXOQXQ_NTRo",
    "outputId": "f1abfb90-c0f6-4b08-a1b8-3087d1ea8557"
   },
   "outputs": [
    {
     "name": "stdout",
     "output_type": "stream",
     "text": [
      "2\n"
     ]
    }
   ],
   "source": [
    "GF, g, B, a = 17, 11, 11, 7\n",
    "\n",
    "def secret_key(sec_num, mod, GF):\n",
    "    return mod**sec_num % GF\n",
    "\n",
    "print(secret_key(GF, B, a))"
   ]
  },
  {
   "cell_type": "markdown",
   "metadata": {
    "id": "DCU8dx3TNTRo"
   },
   "source": [
    "### Problem 2 (3 points)"
   ]
  },
  {
   "cell_type": "markdown",
   "metadata": {
    "id": "Dc1_dM0XNTRo"
   },
   "source": [
    "El Gamal protocol is widely used in cryptography. In this task we will ask you to implement your own El-Gamal encryption scheme on Python"
   ]
  },
  {
   "cell_type": "markdown",
   "metadata": {
    "id": "icianMrXNTRo"
   },
   "source": [
    "1. Implement function for generating keys. The function must generate big random prime number (problem of generating big prime numbers was discussed within the lectures). (1 point)"
   ]
  },
  {
   "cell_type": "code",
   "execution_count": 2,
   "metadata": {
    "id": "UkfYFB1eNTRo"
   },
   "outputs": [],
   "source": [
    "import random\n",
    "import math\n",
    "import sys\n",
    "\n",
    "class PrivateKey(object):\n",
    "    def __init__(self, p=None, g=None, x=None, iNumBits=0):\n",
    "        self.p = p\n",
    "        self.g = g\n",
    "        self.x = x\n",
    "        self.iNumBits = iNumBits\n",
    "\n",
    "class PublicKey(object):\n",
    "    def __init__(self, p=None, g=None, h=None, iNumBits=0):\n",
    "        self.p = p\n",
    "        self.g = g\n",
    "        self.h = h\n",
    "        self.iNumBits = iNumBits\n",
    "\n",
    "# the greatest common denominator for a and b(a > b)\n",
    "def gcd( a, b ):\n",
    "        while b != 0:\n",
    "            c = a % b\n",
    "            a = b\n",
    "            b = c\n",
    "        return a\n",
    "\n",
    "# tests if num is prime\n",
    "def prime_check( num, iConfidence ):\n",
    "        for i in range(iConfidence):\n",
    "                a = random.randint( 1, num-1 )\n",
    "                if gcd( a, num ) > 1:\n",
    "                        return False\n",
    "                if not jacobi( a, num ) % num == pow(a, (num-1)//2, num):\n",
    "                        return False\n",
    "        return True\n",
    "\n",
    "#computes the jacobi symbol of a, n\n",
    "def jacobi( a, n ):\n",
    "        if a == 0:\n",
    "                if n == 1:\n",
    "                        return 1\n",
    "                else:\n",
    "                        return 0\n",
    "        elif a == -1:\n",
    "                if n % 2 == 0:\n",
    "                        return 1\n",
    "                else:\n",
    "                        return -1\n",
    "        elif a == 1:\n",
    "                return 1\n",
    "        elif a == 2:\n",
    "                if n % 8 == 1 or n % 8 == 7:\n",
    "                        return 1\n",
    "                elif n % 8 == 3 or n % 8 == 5:\n",
    "                        return -1\n",
    "        elif a >= n:\n",
    "                return jacobi( a%n, n)\n",
    "        elif a%2 == 0:\n",
    "                return jacobi(2, n)*jacobi(a//2, n)\n",
    "\n",
    "        else:\n",
    "                if a % 4 == 3 and n%4 == 3:\n",
    "                        return -1 * jacobi( n, a)\n",
    "                else:\n",
    "                        return jacobi(n, a )\n",
    "\n",
    "def find_primitive_root( p ):\n",
    "        if p == 2:\n",
    "                return 1\n",
    "        p1 = 2\n",
    "        p2 = (p-1) // p1\n",
    "        while( 1 ):\n",
    "                g = random.randint( 2, p-1 )\n",
    "                if not (pow(g, (p-1)//p1, p) == 1):\n",
    "                        if not pow(g, (p-1)//p2, p) == 1:\n",
    "                                return g\n",
    "\n",
    "#find n bit prime\n",
    "def find_prime(iNumBits, iConfidence):\n",
    "        while(1):\n",
    "                p = random.randint( 2**(iNumBits-2), 2**(iNumBits-1) )\n",
    "                while( p % 2 == 0 ):\n",
    "                        p = random.randint(2**(iNumBits-2),2**(iNumBits-1))\n",
    "                        \n",
    "                while( not prime_check(p, iConfidence) ):\n",
    "                        p = random.randint( 2**(iNumBits-2), 2**(iNumBits-1) )\n",
    "                        while( p % 2 == 0 ):\n",
    "                                p = random.randint(2**(iNumBits-2), 2**(iNumBits-1))\n",
    "                p = p * 2 + 1 # if p is prime\n",
    "                if prime_check(p, iConfidence):\n",
    "                        return p\n",
    "\n",
    "#encodes bytes to integers mod p.\n",
    "def encode(sPlaintext, iNumBits):\n",
    "        byte_array = bytearray(sPlaintext, 'utf-16')\n",
    "        z = []\n",
    "        k = iNumBits//8\n",
    "        j = -1 * k\n",
    "        num = 0\n",
    "        for i in range( len(byte_array) ):\n",
    "                if i % k == 0:\n",
    "                        j += k\n",
    "                        num = 0\n",
    "                        z.append(0)\n",
    "                z[j//k] += byte_array[i]*(2**(8*(i%k)))\n",
    "        return z\n",
    "\n",
    "#decode integers to the original message bytes\n",
    "def decode(aiPlaintext, iNumBits):\n",
    "        bytes_array = []\n",
    "        k = iNumBits//8\n",
    "        for num in aiPlaintext:\n",
    "                for i in range(k):\n",
    "                        temp = num\n",
    "                        for j in range(i+1, k):\n",
    "\n",
    "                                temp = temp % (2**(8*j))\n",
    "                        letter = temp // (2**(8*i))\n",
    "                        bytes_array.append(letter)\n",
    "                        num = num - (letter*(2**(8*i)))\n",
    "        decodedText = bytearray(b for b in bytes_array).decode('utf-16')\n",
    "        return decodedText\n",
    "\n",
    "#generate public key K1 (p, g, h) and private key K2 (p, g, x)\n",
    "def generate_keys(iNumBits=256, iConfidence=32):\n",
    "        p = find_prime(iNumBits, iConfidence)\n",
    "        g = find_primitive_root(p)\n",
    "        g = pow(g, 2, p)\n",
    "        x = random.randint( 1, (p - 1) // 2 )\n",
    "        h = pow( g, x, p )\n",
    "        publicKey = PublicKey(p, g, h, iNumBits)\n",
    "        privateKey = PrivateKey(p, g, x, iNumBits)\n",
    "        return {'privateKey': privateKey, 'publicKey': publicKey}"
   ]
  },
  {
   "cell_type": "markdown",
   "metadata": {
    "id": "oX7W7sCHNTRo"
   },
   "source": [
    "2. Implement functions that realize the encryption and decryption in El Gamal protocol. (1 points)"
   ]
  },
  {
   "cell_type": "code",
   "execution_count": 3,
   "metadata": {
    "id": "eeZCkaZWNTRo"
   },
   "outputs": [],
   "source": [
    "def encrypt(key, sPlaintext):\n",
    "        z = encode(sPlaintext, key.iNumBits)\n",
    "        cipher_pairs = []\n",
    "        for i in z:\n",
    "                y = random.randint( 0, key.p )\n",
    "                c = pow( key.g, y, key.p )\n",
    "                d = (i*pow( key.h, y, key.p)) % key.p\n",
    "                cipher_pairs.append( [c, d] )\n",
    "\n",
    "        encryptedStr = \"\"\n",
    "        for pair in cipher_pairs:\n",
    "                encryptedStr += str(pair[0]) + ' ' + str(pair[1]) + ' '\n",
    "        return encryptedStr\n",
    "\n",
    "# decryption on the cipher pairs found in Cipher using\n",
    "def decrypt(key, cipher):\n",
    "        plaintext = []\n",
    "        cipherArray = cipher.split()\n",
    "        if (not len(cipherArray) % 2 == 0):\n",
    "            return \"Malformed Cipher Text\"\n",
    "        for i in range(0, len(cipherArray), 2):\n",
    "                c = int(cipherArray[i])\n",
    "                d = int(cipherArray[i+1])\n",
    "                s = pow( c, key.x, key.p )\n",
    "                plain = (d*pow( s, key.p-2, key.p)) % key.p\n",
    "                plaintext.append( plain )\n",
    "        decryptedText = decode(plaintext, key.iNumBits)\n",
    "        decryptedText = \"\".join([ch for ch in decryptedText if ch != '\\x00'])\n",
    "        \n",
    "        return decryptedText"
   ]
  },
  {
   "cell_type": "markdown",
   "metadata": {
    "id": "sZzhZDPBNTRo"
   },
   "source": [
    "3. Calculate Hash of your name by SHA-1 and test El Gamal encryption/decryption functions on it (1 points)"
   ]
  },
  {
   "cell_type": "code",
   "execution_count": 4,
   "metadata": {
    "id": "p8qxLD8bNTRo"
   },
   "outputs": [],
   "source": [
    "def sha1(data):\n",
    "    bytes = \"\"\n",
    "\n",
    "    h0 = 0x67452301\n",
    "    h1 = 0xEFCDAB89\n",
    "    h2 = 0x98BADCFE\n",
    "    h3 = 0x10325476\n",
    "    h4 = 0xC3D2E1F0\n",
    "\n",
    "    for n in range(len(data)):\n",
    "        bytes+='{0:08b}'.format(ord(data[n]))\n",
    "    bits = bytes+\"1\"\n",
    "    pBits = bits\n",
    "    #pad until length equals 448 mod 512\n",
    "    while len(pBits)%512 != 448:\n",
    "        pBits+=\"0\"\n",
    "    pBits+='{0:064b}'.format(len(bits)-1)\n",
    "\n",
    "    def chunks(l, n):\n",
    "        return [l[i:i+n] for i in range(0, len(l), n)]\n",
    "\n",
    "    def rol(n, b):\n",
    "        return ((n << b) | (n >> (32 - b))) & 0xffffffff\n",
    "\n",
    "    for c in chunks(pBits, 512): \n",
    "        words = chunks(c, 32)\n",
    "        w = [0]*80\n",
    "        for n in range(0, 16):\n",
    "            w[n] = int(words[n], 2)\n",
    "        for i in range(16, 80):\n",
    "            w[i] = rol((w[i-3] ^ w[i-8] ^ w[i-14] ^ w[i-16]), 1)  \n",
    "\n",
    "        a = h0\n",
    "        b = h1\n",
    "        c = h2\n",
    "        d = h3\n",
    "        e = h4\n",
    "\n",
    "        for i in range(0, 80):\n",
    "            if 0 <= i <= 19:\n",
    "                f = (b & c) | ((~b) & d)\n",
    "                k = 0x5A827999\n",
    "            elif 20 <= i <= 39:\n",
    "                f = b ^ c ^ d\n",
    "                k = 0x6ED9EBA1\n",
    "            elif 40 <= i <= 59:\n",
    "                f = (b & c) | (b & d) | (c & d) \n",
    "                k = 0x8F1BBCDC\n",
    "            elif 60 <= i <= 79:\n",
    "                f = b ^ c ^ d\n",
    "                k = 0xCA62C1D6\n",
    "\n",
    "            temp = rol(a, 5) + f + e + k + w[i] & 0xffffffff\n",
    "            e = d\n",
    "            d = c\n",
    "            c = rol(b, 30)\n",
    "            b = a\n",
    "            a = temp\n",
    "\n",
    "        h0 = h0 + a & 0xffffffff\n",
    "        h1 = h1 + b & 0xffffffff\n",
    "        h2 = h2 + c & 0xffffffff\n",
    "        h3 = h3 + d & 0xffffffff\n",
    "        h4 = h4 + e & 0xffffffff\n",
    "\n",
    "    return '%08x%08x%08x%08x%08x' % (h0, h1, h2, h3, h4)"
   ]
  },
  {
   "cell_type": "code",
   "execution_count": 5,
   "metadata": {
    "id": "aLkPY4L8NTRp",
    "outputId": "d0a87316-5013-4b8a-dad2-481bbebeb276"
   },
   "outputs": [],
   "source": [
    "keys = generate_keys() # keys generation\n",
    "priv = keys['privateKey']\n",
    "pub = keys['publicKey']\n",
    "\n",
    "message = \"Stanislav Krikunov\" # enter my name\n",
    "hash_sha1 = sha1(message) # hash sha1 calculation\n",
    "cipher = encrypt(pub, hash_sha1) # encode to cipher using public key\n",
    "decrypted_hash_sha1 = decrypt(priv, cipher) # decode using cipher and private key"
   ]
  },
  {
   "cell_type": "code",
   "execution_count": 6,
   "metadata": {},
   "outputs": [
    {
     "name": "stdout",
     "output_type": "stream",
     "text": [
      "2a1f0c988399f3c228e5c2387da1bf4b3771e8e0 2a1f0c988399f3c228e5c2387da1bf4b3771e8e0\n",
      "\n",
      "equal\n"
     ]
    }
   ],
   "source": [
    "print(decrypted_hash_sha1, hash_sha1)\n",
    "print()\n",
    "if decrypted_hash_sha1 == hash_sha1:\n",
    "    print('equal')\n",
    "else:\n",
    "    print('not equal')"
   ]
  },
  {
   "cell_type": "markdown",
   "metadata": {},
   "source": [
    "## Result:\n",
    "### sha1 hash: 2a1f0c988399f3c228e5c2387da1bf4b3771e8e0\n",
    "### EL Gamal gives true result"
   ]
  },
  {
   "cell_type": "markdown",
   "metadata": {
    "id": "Qko3-XOwNTRp"
   },
   "source": [
    "### Problem 3 (3 points)"
   ]
  },
  {
   "cell_type": "markdown",
   "metadata": {
    "id": "4whryEEBNTRp"
   },
   "source": [
    "Elliptic curves due to their efficient hardware realization widely used in modern secure communication channels. The main thing that lies inside their cryptographic hardness is that we can break them only by greed search over all group points. In this task, we will ask you to write python function that returns all group elements of a certain elliptic curve over a finite field "
   ]
  },
  {
   "cell_type": "markdown",
   "metadata": {
    "id": "KzgzlSx-NTRp"
   },
   "source": [
    "1. Write a python function that list all points of elliptic curve $y^2=x^3-5x-8$ over $F_{11}$ (2 points)"
   ]
  },
  {
   "cell_type": "code",
   "execution_count": 7,
   "metadata": {
    "id": "EsPue3aUNTRp"
   },
   "outputs": [],
   "source": [
    "import collections\n",
    "Coord = collections.namedtuple(\"Coordinates\", [\"x\", \"y\"])\n",
    "\n",
    "def inverse(n, q):\n",
    "    for i in range(q):\n",
    "        if (n * i) % q == 1:\n",
    "            return i\n",
    "        pass\n",
    "    pass\n",
    "\n",
    "def check(n, q):\n",
    "    for i in range(1, q):\n",
    "        if i * i % q == n:\n",
    "            return (i, q - i)\n",
    "        pass\n",
    "    return (-1, -1)\n",
    "\n",
    "class EC(object):\n",
    "    def __init__(self, a, b, q):\n",
    "        self.a = a\n",
    "        self.b = b\n",
    "        self.q = q\n",
    "        self.zero = Coord(0, 0)\n",
    "        pass\n",
    "\n",
    "    # finding points on curve at x < q\n",
    "    def find(self, x):\n",
    "        ysq = (x ** 3 + self.a * x + self.b) % self.q\n",
    "        y, my = check(ysq, self.q)\n",
    "        \n",
    "        if (y, my) == (-1,-1): # return None if there is no point in the grup\n",
    "            return None\n",
    "        else:\n",
    "            return Coord(x, y), Coord(x, my)\n",
    "    \n",
    "     # addition for 2 points\n",
    "    def addition(self, p1, p2):\n",
    "        if p1 == self.zero: return p2\n",
    "        if p2 == self.zero: return p1\n",
    "        if p1.x == p2.x and (p1.y != p2.y or p1.y == 0):\n",
    "            return self.zero\n",
    "        if p1.x == p2.x:\n",
    "            l = (3 * p1.x * p1.x + self.a) * inverse(2 * p1.y, self.q) % self.q\n",
    "            pass\n",
    "        else:\n",
    "            l = (p2.y - p1.y) * inverse(p2.x - p1.x, self.q) % self.q\n",
    "            pass\n",
    "        x = (l * l - p1.x - p2.x) % self.q\n",
    "        y = (l * (p1.x - x) - p1.y) % self.q\n",
    "        return Coord(x, y)"
   ]
  },
  {
   "cell_type": "code",
   "execution_count": 8,
   "metadata": {
    "id": "N0sqbP26NTRp"
   },
   "outputs": [],
   "source": [
    "a, b, q = -5, -8, 11\n",
    "ec = EC(a,b,q)"
   ]
  },
  {
   "cell_type": "code",
   "execution_count": 9,
   "metadata": {
    "id": "_5TrabnmNTRp",
    "outputId": "c458f6d4-59ad-438d-a957-90bbefe24473"
   },
   "outputs": [
    {
     "name": "stdout",
     "output_type": "stream",
     "text": [
      "poins indexes from group\n",
      "2\n",
      "3\n",
      "4\n",
      "5\n",
      "7\n",
      "9\n"
     ]
    },
    {
     "data": {
      "text/plain": [
       "[(Coordinates(x=2, y=1), Coordinates(x=2, y=10)),\n",
       " (Coordinates(x=3, y=2), Coordinates(x=3, y=9)),\n",
       " (Coordinates(x=4, y=5), Coordinates(x=4, y=6)),\n",
       " (Coordinates(x=5, y=2), Coordinates(x=5, y=9)),\n",
       " (Coordinates(x=7, y=5), Coordinates(x=7, y=6)),\n",
       " (Coordinates(x=9, y=4), Coordinates(x=9, y=7))]"
      ]
     },
     "execution_count": 9,
     "metadata": {},
     "output_type": "execute_result"
    }
   ],
   "source": [
    "elements = []\n",
    "print('poins indexes from group')\n",
    "for i in range(1, 11, 1):\n",
    "    if ec.find(i) != None:\n",
    "        elements.append(ec.find(i))\n",
    "        print(i)\n",
    "elements"
   ]
  },
  {
   "cell_type": "markdown",
   "metadata": {
    "id": "1HBFp32MNTRp"
   },
   "source": [
    "2. Compute the sum of two points in group above and make sure that result lies within the same group (1 point)"
   ]
  },
  {
   "cell_type": "code",
   "execution_count": 10,
   "metadata": {
    "id": "1LUr-EHDNTRp",
    "outputId": "0fb463d9-05b2-4140-b7a3-357c8433aedc"
   },
   "outputs": [
    {
     "name": "stdout",
     "output_type": "stream",
     "text": [
      "Coordinates(x=4, y=5) Coordinates(x=4, y=6)\n"
     ]
    }
   ],
   "source": [
    "# take index 4, for example\n",
    "point1, point2 = ec.find(4)\n",
    "print(point1, point2)"
   ]
  },
  {
   "cell_type": "code",
   "execution_count": 11,
   "metadata": {
    "id": "tDLWcIxtNTRp",
    "outputId": "16ddf979-8793-4cbb-f1f3-d7b04ffb1750"
   },
   "outputs": [
    {
     "name": "stdout",
     "output_type": "stream",
     "text": [
      "Coordinates(x=9, y=4) Coordinates(x=9, y=4)\n"
     ]
    }
   ],
   "source": [
    "# and index 9\n",
    "point3, point4 = ec.find(9)\n",
    "print(point3, point3)"
   ]
  },
  {
   "cell_type": "code",
   "execution_count": 12,
   "metadata": {
    "id": "B82yCKEcNTRp",
    "outputId": "6617dc19-f936-4cc7-c549-9e1ee7901c90"
   },
   "outputs": [
    {
     "name": "stdout",
     "output_type": "stream",
     "text": [
      "Coordinates(x=3, y=2)\n"
     ]
    }
   ],
   "source": [
    "# find the sum of 4 and 9 points\n",
    "g_sum = ec.addition(point1, point4)\n",
    "print(g_sum)"
   ]
  },
  {
   "cell_type": "code",
   "execution_count": 13,
   "metadata": {
    "id": "DW8EE0j6NTRp",
    "outputId": "b6023d2a-5868-423a-f4e6-24cd233ad490"
   },
   "outputs": [
    {
     "data": {
      "text/plain": [
       "((Coordinates(x=3, y=2), Coordinates(x=3, y=9)),\n",
       " (Coordinates(x=2, y=1), Coordinates(x=2, y=10)))"
      ]
     },
     "execution_count": 13,
     "metadata": {},
     "output_type": "execute_result"
    }
   ],
   "source": [
    "# make sure that result lies within the same group\n",
    "ec.find(g_sum.x), ec.find(g_sum.y)"
   ]
  },
  {
   "cell_type": "code",
   "execution_count": 14,
   "metadata": {},
   "outputs": [],
   "source": [
    "# function to check point\n",
    "def is_in_group(elements, point):\n",
    "    in_group = False\n",
    "    for i in range(len(elements)):\n",
    "        for j in range(2):\n",
    "            if elements[i][j] == ec.find(point)[j]:\n",
    "                in_group = True\n",
    "    return in_group"
   ]
  },
  {
   "cell_type": "code",
   "execution_count": 15,
   "metadata": {},
   "outputs": [
    {
     "data": {
      "text/plain": [
       "True"
      ]
     },
     "execution_count": 15,
     "metadata": {},
     "output_type": "execute_result"
    }
   ],
   "source": [
    "is_in_group(elements, g_sum.x)"
   ]
  },
  {
   "cell_type": "code",
   "execution_count": 16,
   "metadata": {},
   "outputs": [
    {
     "data": {
      "text/plain": [
       "True"
      ]
     },
     "execution_count": 16,
     "metadata": {},
     "output_type": "execute_result"
    }
   ],
   "source": [
    "is_in_group(elements, g_sum.y)"
   ]
  },
  {
   "cell_type": "markdown",
   "metadata": {
    "id": "oXzX5Hu7NTRp"
   },
   "source": [
    "### Problem 4 (3 points)"
   ]
  },
  {
   "cell_type": "markdown",
   "metadata": {
    "id": "1upfu9O-NTRp"
   },
   "source": [
    "Merkle hash trees play an important role in forming transaction blocks in blockchain. In this assignment we ask you to plot your own Merkle hash tree and check its' properties. Below we provide you with some code fragment what you can use in your assignment"
   ]
  },
  {
   "cell_type": "code",
   "execution_count": 17,
   "metadata": {
    "id": "wyAsYiuhNTRp"
   },
   "outputs": [],
   "source": [
    "import matplotlib\n",
    "import networkx as nx\n",
    "%matplotlib qt5\n",
    "from networkx import balanced_tree, draw_networkx, draw"
   ]
  },
  {
   "cell_type": "markdown",
   "metadata": {
    "id": "EimzpanENTRp"
   },
   "source": [
    "Let us plot graph basis for Merkle hash tree"
   ]
  },
  {
   "cell_type": "code",
   "execution_count": 64,
   "metadata": {
    "id": "zYbX5bOANTRp",
    "outputId": "ed5f1b34-f499-4d6b-87c9-385e566a7114"
   },
   "outputs": [
    {
     "data": {
      "text/plain": [
       "{0: Text(0, 4, '0'),\n",
       " 1: Text(-2, 3, '1'),\n",
       " 2: Text(2, 3, '2'),\n",
       " 3: Text(-3, 2, '3'),\n",
       " 4: Text(-1, 2, '4'),\n",
       " 5: Text(1, 2, '5'),\n",
       " 6: Text(3, 2, '6'),\n",
       " 7: Text(-3, 1, 'tx1'),\n",
       " 8: Text(-1, 1, 'tx2'),\n",
       " 9: Text(1, 1, 'tx3'),\n",
       " 10: Text(3, 1, 'tx4')}"
      ]
     },
     "execution_count": 64,
     "metadata": {},
     "output_type": "execute_result"
    }
   ],
   "source": [
    "G = nx.Graph()\n",
    "positions = {}\n",
    "coordinates = [\n",
    "    [0, 4],\n",
    "    [-2, 3],\n",
    "    [2, 3],\n",
    "    [-3, 2],\n",
    "    [-1, 2],\n",
    "    [1, 2],\n",
    "    [3, 2],\n",
    "    [-3, 1],\n",
    "    [-1, 1],\n",
    "    [1, 1],\n",
    "    [3, 1]\n",
    "]\n",
    "parents = [0, 0, 0, 1, 1, 2, 2, 3, 4, 5, 6]\n",
    "for index in range(11):\n",
    "    G.add_node(index)\n",
    "    G.add_edge(index, parents[index])\n",
    "    positions[index] = coordinates[index]\n",
    "nx.draw(G, positions, node_size = 1000)\n",
    "labels = {\n",
    "    0: '0',\n",
    "    1: '1',\n",
    "    2: '2',\n",
    "    3: '3',\n",
    "    4: '4',\n",
    "    5: '5',\n",
    "    6: '6',\n",
    "    7: 'tx1',\n",
    "    8: 'tx2',\n",
    "    9: 'tx3',\n",
    "    10: 'tx4',\n",
    "}\n",
    "nx.draw_networkx_labels(G, positions, labels = labels)"
   ]
  },
  {
   "cell_type": "markdown",
   "metadata": {
    "id": "iwxHES_kNTRp"
   },
   "source": [
    "In Bitcoin double sha256 hash scheme is used. Here is an example."
   ]
  },
  {
   "cell_type": "code",
   "execution_count": 65,
   "metadata": {
    "id": "VQn3EIzRNTRp",
    "outputId": "c2a0a2e4-2db0-4031-8712-25bb9553cb0c"
   },
   "outputs": [
    {
     "name": "stdout",
     "output_type": "stream",
     "text": [
      "First hash represented as a hexadecimal number: 2cf24dba5fb0a30e26e83b2ac5b9e29e1b161e5c1fa7425e73043362938b9824\n",
      "Second hash represented as a hexadecimal number: 9595c9df90075148eb06860365df33584b75bff782a510c6cd4883a419833d50\n"
     ]
    }
   ],
   "source": [
    "import hashlib\n",
    "\n",
    "first_hash = hashlib.sha256(b\"hello\") # \"b\" stands for binary representation\n",
    "second_hash = hashlib.sha256()\n",
    "print('First hash represented as a hexadecimal number:', first_hash.hexdigest())\n",
    "second_hash.update(first_hash.digest())\n",
    "print('Second hash represented as a hexadecimal number:', second_hash.hexdigest())"
   ]
  },
  {
   "cell_type": "markdown",
   "metadata": {
    "id": "Sox8UCC0NTRq"
   },
   "source": [
    "Now we can easily change vertices' labels to hashes of corresponding messages and plot new graph"
   ]
  },
  {
   "cell_type": "code",
   "execution_count": 66,
   "metadata": {
    "id": "Jq-JwC8WNTRq",
    "outputId": "21761eae-f75c-4545-9cb8-57d9e377ce1f"
   },
   "outputs": [
    {
     "data": {
      "text/plain": [
       "{0: Text(0, 4, '0'),\n",
       " 1: Text(-2, 3, '1'),\n",
       " 2: Text(2, 3, '2'),\n",
       " 3: Text(-3, 2, '856a4921cd32690244af7568e7bd1391a94119e17c7f33234f4bf11271b223e5'),\n",
       " 4: Text(-1, 2, '4'),\n",
       " 5: Text(1, 2, '5'),\n",
       " 6: Text(3, 2, '6'),\n",
       " 7: Text(-3, 1, 'tx1'),\n",
       " 8: Text(-1, 1, 'tx2'),\n",
       " 9: Text(1, 1, 'tx3'),\n",
       " 10: Text(3, 1, 'tx4')}"
      ]
     },
     "execution_count": 66,
     "metadata": {},
     "output_type": "execute_result"
    }
   ],
   "source": [
    "labels[3] = hashlib.sha256(hashlib.sha256(b\"tx1\").digest()).hexdigest()\n",
    "\n",
    "# and plot the graph again\n",
    "\n",
    "nx.draw(G, positions, node_size = 1000)\n",
    "nx.draw_networkx_labels(G, positions, labels = labels, font_size = 8)"
   ]
  },
  {
   "cell_type": "markdown",
   "metadata": {
    "id": "NX1sBiMYNTRq"
   },
   "source": [
    "1. Construct Merkle hash tree using previously constructed graph by finding corresponding SHA256 hashes on vertices and plot obtained Merkle hash tree (1 point)"
   ]
  },
  {
   "cell_type": "code",
   "execution_count": 67,
   "metadata": {
    "id": "3PeX6u6QNTRq"
   },
   "outputs": [],
   "source": [
    "def data_hashing(data_input):\n",
    "    hashed_value = hashlib.sha256(hashlib.sha256(data_input.encode('utf-8')).digest()).hexdigest()\n",
    "    return hashed_value\n",
    "    \n",
    "class merkle_tree:\n",
    "    #Hasing individual Datas:\n",
    "    #level 0\n",
    "    def level_0():\n",
    "        hash_tx_data_0 = []\n",
    "        # hash_tx_data_0 = data_hashing()\n",
    "        for i in range(0,4,1):\n",
    "            temp = labels_O[i]\n",
    "            hash_tx_data_0.append(temp)\n",
    "        return hash_tx_data_0\n",
    "\n",
    "    #level 1\n",
    "    def level_1(b):\n",
    "        hash_tx_data_1 = []  \n",
    "        for i in range(0, len(b), 2):\n",
    "            temp = b[i] + b[i + 1]\n",
    "            temp_hash = data_hashing(temp)\n",
    "            hash_tx_data_1.append(temp_hash)    \n",
    "        return hash_tx_data_1\n",
    "\n",
    "    #level 2\n",
    "    def level_2(c):\n",
    "        return data_hashing(c[0] + c[1])\n",
    "\n",
    "def merkle_tree_creation():\n",
    "    lvl_0 = merkle_tree.level_0()\n",
    "    lvl_1 = merkle_tree.level_1(lvl_0)\n",
    "    lvl_2 = merkle_tree.level_2(lvl_1)\n",
    "    return lvl_0, lvl_1, lvl_2"
   ]
  },
  {
   "cell_type": "code",
   "execution_count": 68,
   "metadata": {
    "id": "cpI8AvjjNTRq"
   },
   "outputs": [],
   "source": [
    "def draw_tree(l_0, l_1, l_2, txd):\n",
    "    G = nx.Graph()\n",
    "    positions = {}\n",
    "    coordinates = [\n",
    "        [0, 4],\n",
    "        [-2, 3],\n",
    "        [2, 3],\n",
    "        [-3, 2],\n",
    "        [-1, 2],\n",
    "        [1, 2],\n",
    "        [3, 2],\n",
    "        [-3, 1],\n",
    "        [-1, 1],\n",
    "        [1, 1],\n",
    "        [3, 1]\n",
    "    ]\n",
    "    parents = [0, 0, 0, 1, 1, 2, 2, 3, 4, 5, 6]\n",
    "    for index in range(11):\n",
    "        G.add_node(index)\n",
    "        G.add_edge(index, parents[index])\n",
    "        positions[index] = coordinates[index]\n",
    "#nx.draw(G, positions, node_size = 1000)\n",
    "\n",
    "#nx.draw_networkx_labels(G, positions, labels = labels)\n",
    "    nx.draw(G, positions, node_size = 1000, node_color='w', alpha=1, node_shape='s')\n",
    "    labels = {\n",
    "        0: l_2[:8]+'...',\n",
    "        1: '{:.8}...'.format(l_1[0]),\n",
    "        2: '{:.8}...'.format(l_1[1]),\n",
    "        3: '{:.8}...'.format(l_0[0]),\n",
    "        4: '{:.8}...'.format(l_0[1]),\n",
    "        5: '{:.8}...'.format(l_0[2]),\n",
    "        6: '{:.8}...'.format(l_0[3]),\n",
    "        7: \"'{}'\".format('tx1'),\n",
    "        8: \"'{}'\".format('tx2'),\n",
    "        9: \"'{}'\".format('tx3'),\n",
    "        10:\"'{}'\".format('tx4'),\n",
    "    }\n",
    "    nx.draw_networkx_labels(G, positions, labels = labels)"
   ]
  },
  {
   "cell_type": "code",
   "execution_count": 69,
   "metadata": {
    "id": "HH7upqKhNTRq"
   },
   "outputs": [],
   "source": [
    "labels_a = {}\n",
    "    \n",
    "labels_a[0] = hashlib.sha256(hashlib.sha256(b\"tx1\").digest()).hexdigest()\n",
    "labels_a[1] = hashlib.sha256(hashlib.sha256(b\"tx2\").digest()).hexdigest()\n",
    "labels_a[2] = hashlib.sha256(hashlib.sha256(b\"tx3\").digest()).hexdigest()\n",
    "labels_a[3] = hashlib.sha256(hashlib.sha256(b\"tx4\").digest()).hexdigest()\n",
    "\n",
    "htxd_0, htxd_1, htxd_2 = merkle_tree_creation()"
   ]
  },
  {
   "cell_type": "markdown",
   "metadata": {},
   "source": [
    "## Draw tree"
   ]
  },
  {
   "cell_type": "code",
   "execution_count": 74,
   "metadata": {},
   "outputs": [],
   "source": [
    "draw_tree(htxd_0, htxd_1, htxd_2, labels_a)"
   ]
  },
  {
   "cell_type": "markdown",
   "metadata": {
    "id": "r_YFDxm7NTRq"
   },
   "source": [
    "2. Provide a proof of correctness of leaf tx1 and set of leafs tx1-tx2 (1 point)"
   ]
  },
  {
   "cell_type": "code",
   "execution_count": 70,
   "metadata": {
    "id": "kIfiAe4ONTRq"
   },
   "outputs": [],
   "source": [
    "def test_hash_tx_1_and_tx_2():\n",
    "    test_set = {}\n",
    "    test_set[0] = hashlib.sha256(hashlib.sha256(b\"tx1\").digest()).hexdigest()\n",
    "    test_set[1] = hashlib.sha256(hashlib.sha256(b\"tx2\").digest()).hexdigest()\n",
    "    test_node = test_set[0] +  test_set[1]\n",
    "    temp = {}\n",
    "    temp[0] =  data_hashing(test_node)\n",
    "    test_node = temp\n",
    "    if(test_node[0]==htxd_1[0]):   # we compare our test hash with has in vertex\n",
    "        print(\"True\")\n",
    "    else:\n",
    "        print(\"False\")"
   ]
  },
  {
   "cell_type": "code",
   "execution_count": 71,
   "metadata": {
    "id": "uN84cYwFNTRq",
    "outputId": "faffd8a7-1233-449b-ffee-2a7395790ca6"
   },
   "outputs": [
    {
     "name": "stdout",
     "output_type": "stream",
     "text": [
      "True\n"
     ]
    }
   ],
   "source": [
    "test_hash_tx_1_and_tx_2()"
   ]
  },
  {
   "cell_type": "markdown",
   "metadata": {
    "id": "UqbYJUj9NTRq"
   },
   "source": [
    "3. Change the value on leaf tx1 and recompute corresponding hashes. Plot newly obtained Merkle hash tree (1 point)"
   ]
  },
  {
   "cell_type": "code",
   "execution_count": 72,
   "metadata": {
    "id": "qlowqXh7NTRq"
   },
   "outputs": [],
   "source": [
    "labels_b = {}\n",
    "    \n",
    "labels_b[0] = hashlib.sha256(hashlib.sha256(b\"tx1\").digest()).hexdigest() + str(1)\n",
    "labels_b[1] = hashlib.sha256(hashlib.sha256(b\"tx2\").digest()).hexdigest()\n",
    "labels_b[2] = hashlib.sha256(hashlib.sha256(b\"tx3\").digest()).hexdigest()\n",
    "labels_b[3] = hashlib.sha256(hashlib.sha256(b\"tx4\").digest()).hexdigest()\n",
    "\n",
    "htxd_00,htxd_11,htxd_22 = merkle_tree_creation()"
   ]
  },
  {
   "cell_type": "markdown",
   "metadata": {},
   "source": [
    "## Draw tree"
   ]
  },
  {
   "cell_type": "code",
   "execution_count": 75,
   "metadata": {},
   "outputs": [],
   "source": [
    "draw_tree(htxd_00,htxd_11,htxd_22,labels_b)"
   ]
  },
  {
   "cell_type": "code",
   "execution_count": null,
   "metadata": {},
   "outputs": [],
   "source": []
  }
 ],
 "metadata": {
  "colab": {
   "collapsed_sections": [],
   "name": "HW2.ipynb",
   "provenance": []
  },
  "kernelspec": {
   "display_name": "Python 3",
   "language": "python",
   "name": "python3"
  },
  "language_info": {
   "codemirror_mode": {
    "name": "ipython",
    "version": 3
   },
   "file_extension": ".py",
   "mimetype": "text/x-python",
   "name": "python",
   "nbconvert_exporter": "python",
   "pygments_lexer": "ipython3",
   "version": "3.8.3"
  }
 },
 "nbformat": 4,
 "nbformat_minor": 1
}

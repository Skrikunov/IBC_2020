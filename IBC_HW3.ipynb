{
 "cells": [
  {
   "cell_type": "markdown",
   "metadata": {},
   "source": [
    "# Pre-requisite:\n",
    "## 1. Generate 2 Ethereum testnet addresses (address_1, address_2) "
   ]
  },
  {
   "cell_type": "code",
   "execution_count": 1,
   "metadata": {},
   "outputs": [],
   "source": [
    "# !pip install pycryptodome"
   ]
  },
  {
   "cell_type": "code",
   "execution_count": 125,
   "metadata": {},
   "outputs": [],
   "source": [
    "#Defining Libraries:\n",
    "import os\n",
    "import ecdsa\n",
    "from Crypto.Hash import keccak    \n",
    "# from Password_Key_generator import password_pvt_key"
   ]
  },
  {
   "cell_type": "code",
   "execution_count": 3,
   "metadata": {},
   "outputs": [],
   "source": [
    "def sha3(a):\n",
    "    keccak_hash = keccak.new(digest_bits=256)\n",
    "    keccak_hash.update(a)\n",
    "    #return '0x' + keccak_hash.hexdigest()[24:]\n",
    "    return '0x' + keccak_hash.hexdigest()"
   ]
  },
  {
   "cell_type": "code",
   "execution_count": 4,
   "metadata": {},
   "outputs": [],
   "source": [
    "#Function for Checksum\n",
    "def checksum_encode(addr_str): # Takes a hex (string) address as input\n",
    "    keccak_hash = keccak.new(digest_bits=256)\n",
    "    out = ''\n",
    "    addr = addr_str.lower().replace('0x', '')\n",
    "    keccak_hash.update(addr.encode('ascii'))\n",
    "    hash_addr = keccak_hash.hexdigest()\n",
    "    for i, c in enumerate(addr):\n",
    "        #print(i,c, hash_addr[i])\n",
    "        if int(hash_addr[i], 16) >= 8:\n",
    "            out += c.upper()\n",
    "        else:\n",
    "            out += c\n",
    "    return '0x' + out"
   ]
  },
  {
   "cell_type": "code",
   "execution_count": 5,
   "metadata": {},
   "outputs": [],
   "source": [
    "def test(addrstr):\n",
    "    assert(addrstr == checksum_encode(addrstr))"
   ]
  },
  {
   "cell_type": "code",
   "execution_count": 6,
   "metadata": {},
   "outputs": [],
   "source": [
    "def ecdsa_maths(private_key_from_hex):\n",
    "    sk = ecdsa.SigningKey.from_string(private_key_from_hex, curve = ecdsa.SECP256k1)\n",
    "    #actual publickey to verify messages that singed using own pvt key\n",
    "    verification_key = sk.verifying_key\n",
    "    #making Public Key:\n",
    "    public_key =  verification_key.to_string()\n",
    "    #print(public_key.hex())\n",
    "    return public_key"
   ]
  },
  {
   "cell_type": "code",
   "execution_count": 7,
   "metadata": {},
   "outputs": [],
   "source": [
    "def address(passwrd):\n",
    "    #Storing Hex_of_Private_key\n",
    "    password = passwrd\n",
    "    print(\"You Entered/Generated Private key.....\\n\\n\")\n",
    "    \n",
    "    #calling ecdsa_math function to receive public_key of the private_key(password)\n",
    "    public_key = ecdsa_maths(password)\n",
    "    print(\"Public_Key:\", public_key.hex())\n",
    "    \n",
    "\n",
    "    #Taking SHA of public_key\n",
    "    print('\\n\\nTaking SHA3 of Public_Key (32 bytes)')\n",
    "    full_address = sha3(public_key)\n",
    "    print('Full Address(32B):',full_address)\n",
    "    \n",
    "    #last_20bytes_of_public_key_Address\n",
    "    print(\"\\n\\nEthereum Address is last 20bytes of Full Address\")\n",
    "    address = full_address[26:]\n",
    "    print(\"Address:\",address)\n",
    "    \n",
    "    #print(\"Raw_Address\", address,'\\n')\n",
    "    print(f'\\nPrivate Key: {password.hex()}\\nChecksum Address: {checksum_encode(address)}')"
   ]
  },
  {
   "cell_type": "code",
   "execution_count": 8,
   "metadata": {},
   "outputs": [],
   "source": [
    "class passwords:\n",
    "    def by_password():\n",
    "        private_key = password_pvt_key()\n",
    "        return bytes.fromhex(private_key)\n",
    "    \n",
    "    def own_pvt_key():\n",
    "        private_key = input(\"Enter 32 bytes Random hexnumber: \")\n",
    "        return bytes.fromhex(private_key)\n",
    "    \n",
    "    def random_key():\n",
    "        private_key = os.urandom(32).hex()\n",
    "        return bytes.fromhex(private_key)"
   ]
  },
  {
   "cell_type": "code",
   "execution_count": 10,
   "metadata": {},
   "outputs": [
    {
     "name": "stdout",
     "output_type": "stream",
     "text": [
      "\n",
      "Ethereum Address Generator:\n",
      "1. Own Password\n",
      "2. Own Private key\n",
      "3. Random Private key\n",
      "\n"
     ]
    },
    {
     "name": "stdin",
     "output_type": "stream",
     "text": [
      "Enter:  3\n"
     ]
    },
    {
     "name": "stdout",
     "output_type": "stream",
     "text": [
      "You Entered/Generated Private key.....\n",
      "\n",
      "\n",
      "Public_Key: 48796ea7a5b4637f30e40999d49dd499924af9d7cfd4cccebb4e2797d75498645d789f7bc4d45c482ca85a1b529ccc7f54022754de7f36aa80efbd7d97ef68b8\n",
      "\n",
      "\n",
      "Taking SHA3 of Public_Key (32 bytes)\n",
      "Full Address(32B): 0x37944d8b1a67460a4c869b1fc8e9c496cbc89d52d17a1b8cf40108d3c535ccb8\n",
      "\n",
      "\n",
      "Ethereum Address is last 20bytes of Full Address\n",
      "Address: c8e9c496cbc89d52d17a1b8cf40108d3c535ccb8\n",
      "\n",
      "Private Key: de1af0c6f6f8d4ef081014e011b47e28fb877d7de6f05549c8d3fdc0666abe05\n",
      "Checksum Address: 0xC8E9c496cBc89d52D17a1B8Cf40108D3C535CCB8\n"
     ]
    }
   ],
   "source": [
    "print('''\n",
    "Ethereum Address Generator:\n",
    "1. Own Password\n",
    "2. Own Private key\n",
    "3. Random Private key\n",
    "'''\n",
    ")\n",
    "user_ip = input(\"Enter: \")\n",
    "\n",
    "if user_ip == '1':\n",
    "    password = passwords.by_password()\n",
    "\n",
    "    address(password)\n",
    "    \n",
    "elif user_ip == '2':\n",
    "    password = passwords.own_pvt_key()\n",
    "    address(password)\n",
    "    \n",
    "elif user_ip == '3':\n",
    "    password = passwords.random_key()\n",
    "    address(password)"
   ]
  },
  {
   "cell_type": "code",
   "execution_count": 11,
   "metadata": {},
   "outputs": [
    {
     "name": "stdin",
     "output_type": "stream",
     "text": [
      "Enter Address: 0xC8E9c496cBc89d52D17a1B8Cf40108D3C535CCB8\n"
     ]
    }
   ],
   "source": [
    "validity_of_address = input(\"Enter Address:\")\n",
    "test(validity_of_address)"
   ]
  },
  {
   "cell_type": "code",
   "execution_count": 12,
   "metadata": {},
   "outputs": [
    {
     "name": "stdout",
     "output_type": "stream",
     "text": [
      "\n",
      "Ethereum Address Generator:\n",
      "1. Own Password\n",
      "2. Own Private key\n",
      "3. Random Private key\n",
      "\n"
     ]
    },
    {
     "name": "stdin",
     "output_type": "stream",
     "text": [
      "Enter:  3\n"
     ]
    },
    {
     "name": "stdout",
     "output_type": "stream",
     "text": [
      "You Entered/Generated Private key.....\n",
      "\n",
      "\n",
      "Public_Key: 3c5f3b7d19dcdcbd0dce71d2cf0e2c9cf504e4e99450f959888fa3449126570b74199e071d218dc3908f86419d644afb5d28a8e04774a1366aca18ae8d9b25e5\n",
      "\n",
      "\n",
      "Taking SHA3 of Public_Key (32 bytes)\n",
      "Full Address(32B): 0xcb609801efd843174188b3420e8bf7c932931f1e1941e2259c6cfd476e062bdb\n",
      "\n",
      "\n",
      "Ethereum Address is last 20bytes of Full Address\n",
      "Address: 0e8bf7c932931f1e1941e2259c6cfd476e062bdb\n",
      "\n",
      "Private Key: 20734c6ae9712849ea8de5b18d748515c73605d5d0c84b10b905d5253ac01455\n",
      "Checksum Address: 0x0E8bF7C932931F1E1941e2259c6CFd476e062bDB\n"
     ]
    }
   ],
   "source": [
    "print('''\n",
    "Ethereum Address Generator:\n",
    "1. Own Password\n",
    "2. Own Private key\n",
    "3. Random Private key\n",
    "'''\n",
    ")\n",
    "user_ip = input(\"Enter: \")\n",
    "\n",
    "if user_ip == '1':\n",
    "    password = passwords.by_password()\n",
    "\n",
    "    address(password)\n",
    "    \n",
    "elif user_ip == '2':\n",
    "    password = passwords.own_pvt_key()\n",
    "    address(password)\n",
    "    \n",
    "elif user_ip == '3':\n",
    "    password = passwords.random_key()\n",
    "    address(password)"
   ]
  },
  {
   "cell_type": "code",
   "execution_count": 13,
   "metadata": {},
   "outputs": [
    {
     "name": "stdin",
     "output_type": "stream",
     "text": [
      "Enter Address: 0x0E8bF7C932931F1E1941e2259c6CFd476e062bDB\n"
     ]
    }
   ],
   "source": [
    "validity_of_address = input(\"Enter Address:\")\n",
    "test(validity_of_address)"
   ]
  },
  {
   "cell_type": "markdown",
   "metadata": {},
   "source": [
    "### First generated data"
   ]
  },
  {
   "cell_type": "raw",
   "metadata": {},
   "source": [
    "Public_Key: 48796ea7a5b4637f30e40999d49dd499924af9d7cfd4cccebb4e2797d75498645d789f7bc4d45c482ca85a1b529ccc7f54022754de7f36aa80efbd7d97ef68b8\n",
    "\n",
    "Taking SHA3 of Public_Key (32 bytes)\n",
    "Full Address(32B): 0x37944d8b1a67460a4c869b1fc8e9c496cbc89d52d17a1b8cf40108d3c535ccb8\n",
    "\n",
    "Ethereum Address is last 20bytes of Full Address\n",
    "Address: c8e9c496cbc89d52d17a1b8cf40108d3c535ccb8\n",
    "\n",
    "Private Key: de1af0c6f6f8d4ef081014e011b47e28fb877d7de6f05549c8d3fdc0666abe05\n",
    "Checksum Address: 0xC8E9c496cBc89d52D17a1B8Cf40108D3C535CCB8"
   ]
  },
  {
   "cell_type": "markdown",
   "metadata": {},
   "source": [
    "### Second generated data"
   ]
  },
  {
   "cell_type": "raw",
   "metadata": {},
   "source": [
    "Public_Key: 3c5f3b7d19dcdcbd0dce71d2cf0e2c9cf504e4e99450f959888fa3449126570b74199e071d218dc3908f86419d644afb5d28a8e04774a1366aca18ae8d9b25e5\n",
    "\n",
    "Taking SHA3 of Public_Key (32 bytes)\n",
    "Full Address(32B): 0xcb609801efd843174188b3420e8bf7c932931f1e1941e2259c6cfd476e062bdb\n",
    "\n",
    "Ethereum Address is last 20bytes of Full Address\n",
    "Address: 0e8bf7c932931f1e1941e2259c6cfd476e062bdb\n",
    "\n",
    "Private Key: 20734c6ae9712849ea8de5b18d748515c73605d5d0c84b10b905d5253ac01455\n",
    "Checksum Address: 0x0E8bF7C932931F1E1941e2259c6CFd476e062bDB"
   ]
  },
  {
   "cell_type": "markdown",
   "metadata": {},
   "source": [
    "## 2. Keep Address_1 as your main test address (use ropsten test network )"
   ]
  },
  {
   "cell_type": "markdown",
   "metadata": {},
   "source": [
    "### Main address: 0xC8E9c496cBc89d52D17a1B8Cf40108D3C535CCB8\n",
    "### Additional address: 0x0E8bF7C932931F1E1941e2259c6CFd476e062bDB"
   ]
  },
  {
   "cell_type": "code",
   "execution_count": null,
   "metadata": {},
   "outputs": [],
   "source": []
  },
  {
   "cell_type": "markdown",
   "metadata": {},
   "source": [
    "# Task 1: Create a user-interacting interface to connect to different blockchain networks, i.e. main net, testnets (any two), and ganache (Hint: Take input from the user, use the if-else method to connect to different networks. User different Infura Endpoints)"
   ]
  },
  {
   "cell_type": "code",
   "execution_count": 45,
   "metadata": {},
   "outputs": [],
   "source": [
    "from web3 import Web3\n",
    "\n",
    "def connect_to_net():\n",
    "    net = input(\"Enter net name: \")\n",
    "    net_url = 0\n",
    "    if net == 'ropsten':\n",
    "        net_url = \"https://\" + net + \".infura.io/v3/538d00daecda4239a53ff73ca7e56e67\"\n",
    "    elif net == 'mainnet':\n",
    "        net_url = \"https://\" + net + \".infura.io/v3/538d00daecda4239a53ff73ca7e56e67\"\n",
    "    elif net == 'ganache':\n",
    "        net_url = \"HTTP://127.0.0.1:7545\"\n",
    "    else:\n",
    "        print('Not connected. Please, type the net name correctly')\n",
    "    web3 = Web3(Web3.HTTPProvider(net_url))\n",
    "    print(\"Connected:\", web3.isConnected())\n",
    "    if web3.isConnected():\n",
    "        None\n",
    "    else:\n",
    "        web3 = 'Not connected'\n",
    "    return web3"
   ]
  },
  {
   "cell_type": "code",
   "execution_count": 46,
   "metadata": {},
   "outputs": [
    {
     "name": "stdin",
     "output_type": "stream",
     "text": [
      "Enter net name:  ganache\n"
     ]
    },
    {
     "name": "stdout",
     "output_type": "stream",
     "text": [
      "Connected: False\n"
     ]
    }
   ],
   "source": [
    "web3 = connect_to_net()"
   ]
  },
  {
   "cell_type": "code",
   "execution_count": null,
   "metadata": {},
   "outputs": [],
   "source": []
  },
  {
   "cell_type": "markdown",
   "metadata": {},
   "source": [
    "# Task 2: Get some Ethereum test coins to your testnet address_1 from any source. Provide the Transaction link of the testnet work. "
   ]
  },
  {
   "cell_type": "markdown",
   "metadata": {},
   "source": [
    "### Go to the ropsten:"
   ]
  },
  {
   "cell_type": "code",
   "execution_count": 16,
   "metadata": {},
   "outputs": [
    {
     "data": {
      "text/plain": [
       "True"
      ]
     },
     "execution_count": 16,
     "metadata": {},
     "output_type": "execute_result"
    }
   ],
   "source": [
    "import webbrowser\n",
    "webbrowser.open('https://faucet.ropsten.be/') "
   ]
  },
  {
   "cell_type": "markdown",
   "metadata": {},
   "source": [
    "### Get Ethereum test coins using 1st (main) address: 0xC8E9c496cBc89d52D17a1B8Cf40108D3C535CCB8"
   ]
  },
  {
   "cell_type": "markdown",
   "metadata": {},
   "source": [
    "Transaction id: 0xab9a0e9b13c29e7eda8489170d28c52344fceee9975ddbaa26bf41c950a0bc2a"
   ]
  },
  {
   "cell_type": "markdown",
   "metadata": {},
   "source": [
    "### Transaction link:"
   ]
  },
  {
   "cell_type": "code",
   "execution_count": 71,
   "metadata": {},
   "outputs": [
    {
     "data": {
      "text/plain": [
       "True"
      ]
     },
     "execution_count": 71,
     "metadata": {},
     "output_type": "execute_result"
    }
   ],
   "source": [
    "webbrowser.open('https://ropsten.etherscan.io/tx/0xab9a0e9b13c29e7eda8489170d28c52344fceee9975ddbaa26bf41c950a0bc2a/') "
   ]
  },
  {
   "cell_type": "code",
   "execution_count": null,
   "metadata": {},
   "outputs": [],
   "source": []
  },
  {
   "cell_type": "markdown",
   "metadata": {},
   "source": [
    "# Task 3: From Task_1 connect to Ethereum network and provide codes to interact with blockchain:"
   ]
  },
  {
   "cell_type": "markdown",
   "metadata": {},
   "source": [
    "## 1. Checking block height at any time."
   ]
  },
  {
   "cell_type": "code",
   "execution_count": 58,
   "metadata": {},
   "outputs": [
    {
     "name": "stdin",
     "output_type": "stream",
     "text": [
      "Enter net name:  ropsten\n"
     ]
    },
    {
     "name": "stdout",
     "output_type": "stream",
     "text": [
      "Connected: True\n"
     ]
    }
   ],
   "source": [
    "web3 = connect_to_net()"
   ]
  },
  {
   "cell_type": "code",
   "execution_count": 95,
   "metadata": {},
   "outputs": [
    {
     "name": "stdout",
     "output_type": "stream",
     "text": [
      "Block height =  9190471\n"
     ]
    }
   ],
   "source": [
    "print('Block height = ',web3.eth.blockNumber)"
   ]
  },
  {
   "cell_type": "markdown",
   "metadata": {},
   "source": [
    "## 2. Getting information about a block"
   ]
  },
  {
   "cell_type": "code",
   "execution_count": 105,
   "metadata": {},
   "outputs": [
    {
     "name": "stdin",
     "output_type": "stream",
     "text": [
      "Enter block number:  1\n"
     ]
    },
    {
     "data": {
      "text/plain": [
       "AttributeDict({'difficulty': 997888,\n",
       " 'extraData': HexBytes('0xd883010503846765746887676f312e372e318664617277696e'),\n",
       " 'gasLimit': 16760833,\n",
       " 'gasUsed': 0,\n",
       " 'hash': HexBytes('0x41800b5c3f1717687d85fc9018faac0a6e90b39deaa0b99e7fe4fe796ddeb26a'),\n",
       " 'logsBloom': HexBytes('0x00000000000000000000000000000000000000000000000000000000000000000000000000000000000000000000000000000000000000000000000000000000000000000000000000000000000000000000000000000000000000000000000000000000000000000000000000000000000000000000000000000000000000000000000000000000000000000000000000000000000000000000000000000000000000000000000000000000000000000000000000000000000000000000000000000000000000000000000000000000000000000000000000000000000000000000000000000000000000000000000000000000000000000000000000000000'),\n",
       " 'miner': '0xD1aEb42885A43b72B518182Ef893125814811048',\n",
       " 'mixHash': HexBytes('0x0f98b15f1a4901a7e9204f3c500a7bd527b3fb2c3340e12176a44b83e414a69e'),\n",
       " 'nonce': HexBytes('0x0ece08ea8c49dfd9'),\n",
       " 'number': 1,\n",
       " 'parentHash': HexBytes('0x41941023680923e0fe4d74a34bdac8141f2540e3ae90623718e47d66d1ca4a2d'),\n",
       " 'receiptsRoot': HexBytes('0x56e81f171bcc55a6ff8345e692c0f86e5b48e01b996cadc001622fb5e363b421'),\n",
       " 'sha3Uncles': HexBytes('0x1dcc4de8dec75d7aab85b567b6ccd41ad312451b948a7413f0a142fd40d49347'),\n",
       " 'size': 536,\n",
       " 'stateRoot': HexBytes('0xc7b01007a10da045eacb90385887dd0c38fcb5db7393006bdde24b93873c334b'),\n",
       " 'timestamp': 1479642530,\n",
       " 'totalDifficulty': 2046464,\n",
       " 'transactions': [],\n",
       " 'transactionsRoot': HexBytes('0x56e81f171bcc55a6ff8345e692c0f86e5b48e01b996cadc001622fb5e363b421'),\n",
       " 'uncles': []})"
      ]
     },
     "execution_count": 105,
     "metadata": {},
     "output_type": "execute_result"
    }
   ],
   "source": [
    "# get information about the any block\n",
    "def get_block_info(web):\n",
    "    block_number = input(\"Enter block number: \")\n",
    "    last_block = web.eth.blockNumber\n",
    "    \n",
    "    if int(block_number) > int(last_block):\n",
    "        info = 'Block does not exist. Latest block ' + str(last_block)\n",
    "    else:\n",
    "        info = web.eth.getBlock(int(block_number))\n",
    "    return info\n",
    "\n",
    "get_block_info(web3)"
   ]
  },
  {
   "cell_type": "markdown",
   "metadata": {},
   "source": [
    "## 3. Getting balance information of your address_1"
   ]
  },
  {
   "cell_type": "code",
   "execution_count": 79,
   "metadata": {},
   "outputs": [],
   "source": [
    "# Main address: 0xC8E9c496cBc89d52D17a1B8Cf40108D3C535CCB8\n",
    "# Additional address: 0x0E8bF7C932931F1E1941e2259c6CFd476e062bDB"
   ]
  },
  {
   "cell_type": "code",
   "execution_count": 113,
   "metadata": {},
   "outputs": [
    {
     "name": "stdin",
     "output_type": "stream",
     "text": [
      "Enter address:  0xC8E9c496cBc89d52D17a1B8Cf40108D3C535CCB8\n"
     ]
    },
    {
     "data": {
      "text/plain": [
       "1000000000000000000"
      ]
     },
     "execution_count": 113,
     "metadata": {},
     "output_type": "execute_result"
    }
   ],
   "source": [
    "def get_balance(web):\n",
    "    address = input(\"Enter address: \")\n",
    "    balance = web.eth.getBalance(address)\n",
    "    return balance\n",
    "\n",
    "addr1_balance_wei = get_balance(web3)\n",
    "addr1_balance_wei"
   ]
  },
  {
   "cell_type": "markdown",
   "metadata": {},
   "source": [
    "## 4. From Task 3.3. Convert the balance to ether."
   ]
  },
  {
   "cell_type": "code",
   "execution_count": 114,
   "metadata": {},
   "outputs": [
    {
     "data": {
      "text/plain": [
       "Decimal('1')"
      ]
     },
     "execution_count": 114,
     "metadata": {},
     "output_type": "execute_result"
    }
   ],
   "source": [
    "addr1_balance_ether = web3.fromWei(addr1_balance_wei, 'ether')\n",
    "addr1_balance_ether"
   ]
  },
  {
   "cell_type": "code",
   "execution_count": null,
   "metadata": {},
   "outputs": [],
   "source": []
  },
  {
   "cell_type": "markdown",
   "metadata": {},
   "source": [
    "# Task 4: Send some Eth test coins from address_1 to address_2 and provide Transaction_ID.(Use seminar file, not Metamask)"
   ]
  },
  {
   "cell_type": "raw",
   "metadata": {},
   "source": [
    "Private Key: de1af0c6f6f8d4ef081014e011b47e28fb877d7de6f05549c8d3fdc0666abe05\n",
    "Checksum Address: 0xC8E9c496cBc89d52D17a1B8Cf40108D3C535CCB8"
   ]
  },
  {
   "cell_type": "code",
   "execution_count": 119,
   "metadata": {},
   "outputs": [
    {
     "name": "stdin",
     "output_type": "stream",
     "text": [
      "Enter Eth sender's Address:  0xC8E9c496cBc89d52D17a1B8Cf40108D3C535CCB8\n"
     ]
    },
    {
     "name": "stdout",
     "output_type": "stream",
     "text": [
      "\n"
     ]
    },
    {
     "name": "stdin",
     "output_type": "stream",
     "text": [
      "Enter Private Key or your 0xC8E9c496cBc89d52D17a1B8Cf40108D3C535CCB8 address:\n",
      "  de1af0c6f6f8d4ef081014e011b47e28fb877d7de6f05549c8d3fdc0666abe05\n"
     ]
    },
    {
     "name": "stdout",
     "output_type": "stream",
     "text": [
      "\n",
      "nonce = 0\n"
     ]
    }
   ],
   "source": [
    "address = input(\"Enter Eth sender's Address: \")\n",
    "print()\n",
    "private_key = input(f\"Enter Private Key or your {address} address:\\n \")\n",
    "print()\n",
    "nonce = web3.eth.getTransactionCount(address)\n",
    "print('nonce =', nonce)"
   ]
  },
  {
   "cell_type": "code",
   "execution_count": 120,
   "metadata": {},
   "outputs": [
    {
     "name": "stdin",
     "output_type": "stream",
     "text": [
      "Enter Receiver's address 0x0E8bF7C932931F1E1941e2259c6CFd476e062bDB\n",
      "Ethers:  0.5\n"
     ]
    }
   ],
   "source": [
    "tx = {\n",
    "      'nonce':nonce,\n",
    "      #'from': account_1,\n",
    "      'to': input(\"Enter Receiver's address\"),\n",
    "      'value': web3.toWei(float(input(\"Ethers: \")),'ether'),\n",
    "      'gas':2000000,\n",
    "      'gasPrice':web3.toWei('50','gwei')\n",
    "      }"
   ]
  },
  {
   "cell_type": "markdown",
   "metadata": {},
   "source": [
    "## Sign Transaction"
   ]
  },
  {
   "cell_type": "code",
   "execution_count": 121,
   "metadata": {},
   "outputs": [
    {
     "name": "stdout",
     "output_type": "stream",
     "text": [
      "rawTransaction: 0xf86d80850ba43b7400831e8480940e8bf7c932931f1e1941e2259c6cfd476e062bdb8806f05b59d3b20000801ca0d8324702528a6644a9363fb2277867c343bc2134ca4788833eae00dfda82e80ea055408890de2bac83662b7f6b950a5ed87ba0856d1e08b1094feddf87262b7c96 \n",
      "hash: 0xf4cf67c4becc7f5ed6a9618fb3120c4111c4dab063cf5d3ea64ce5b46a48a095\n",
      "r: 97788407733827516732169138220526661881758027801822805774062712996395829356558\n",
      "v: 28\n",
      "s: 38560612884856238337753143486966423924557867577730658462250057729721781419158\n"
     ]
    }
   ],
   "source": [
    "signed_tx = web3.eth.account.signTransaction(tx,private_key)\n",
    "print(f\"rawTransaction: {signed_tx['rawTransaction'].hex()} \\nhash: {signed_tx['hash'].hex()}\\nr: {signed_tx['r']}\\nv: {signed_tx['v']}\\ns: {signed_tx['s']}\")"
   ]
  },
  {
   "cell_type": "markdown",
   "metadata": {},
   "source": [
    "## Send transaction"
   ]
  },
  {
   "cell_type": "code",
   "execution_count": 122,
   "metadata": {},
   "outputs": [
    {
     "name": "stdout",
     "output_type": "stream",
     "text": [
      "0xf4cf67c4becc7f5ed6a9618fb3120c4111c4dab063cf5d3ea64ce5b46a48a095\n"
     ]
    }
   ],
   "source": [
    "tx_hash = web3.eth.sendRawTransaction(signed_tx[\"rawTransaction\"]).hex()\n",
    "print(tx_hash)"
   ]
  },
  {
   "cell_type": "markdown",
   "metadata": {},
   "source": [
    "## See Transaction in Test_net"
   ]
  },
  {
   "cell_type": "code",
   "execution_count": 126,
   "metadata": {},
   "outputs": [
    {
     "data": {
      "text/plain": [
       "True"
      ]
     },
     "execution_count": 126,
     "metadata": {},
     "output_type": "execute_result"
    }
   ],
   "source": [
    "link = 'https://ropsten.etherscan.io/tx/' + tx_hash\n",
    "webbrowser.open(link)"
   ]
  },
  {
   "cell_type": "markdown",
   "metadata": {},
   "source": [
    "## Transaction ID: 0xf4cf67c4becc7f5ed6a9618fb3120c4111c4dab063cf5d3ea64ce5b46a48a095"
   ]
  },
  {
   "cell_type": "code",
   "execution_count": null,
   "metadata": {},
   "outputs": [],
   "source": []
  },
  {
   "cell_type": "markdown",
   "metadata": {},
   "source": [
    "# Task 5: Create a smart contract to add 2 numbers."
   ]
  },
  {
   "cell_type": "markdown",
   "metadata": {},
   "source": [
    "## Go to:"
   ]
  },
  {
   "cell_type": "code",
   "execution_count": null,
   "metadata": {},
   "outputs": [],
   "source": [
    "webbrowser.open('http://remix.ethereum.org/')"
   ]
  },
  {
   "cell_type": "raw",
   "metadata": {},
   "source": [
    "pragma solidity >=0.4.0 <0.6.0;\n",
    "\n",
    "contract BC_HW3 {\n",
    "    uint public result;\n",
    "    \n",
    "    function add(uint _x, uint _y) public returns (uint){\n",
    "        result =  _x + _y;\n",
    "        return result;\n",
    "    }\n",
    "}\n",
    "\n",
    "compiler 0.4.10+commit.f0d539ae"
   ]
  },
  {
   "cell_type": "markdown",
   "metadata": {},
   "source": [
    "# Task 6: Create an ERC20 smart contract"
   ]
  },
  {
   "cell_type": "markdown",
   "metadata": {},
   "source": [
    "## Create 100 tokens."
   ]
  },
  {
   "cell_type": "code",
   "execution_count": 133,
   "metadata": {},
   "outputs": [],
   "source": [
    "def token_symbol():\n",
    "    temp = input(\"Enter 3 Identity Symbol for your token: \").upper()\n",
    "    if len(temp) != 3:\n",
    "        print(\"Length of Symbol is not 3\")\n",
    "        return token_symbol()\n",
    "    else:\n",
    "        return temp\n",
    "\n",
    "def ownerToken_TotalToken(a,b):\n",
    "    temp = input(f\"How many you want to own {b} tokens?: \")\n",
    "    if int(a) < int(temp):\n",
    "        print(\"Owner cannot own Tokens more than total available tokens.\")\n",
    "        return ownerToken_TotalToken(a,b)\n",
    "    else:\n",
    "        return temp"
   ]
  },
  {
   "cell_type": "code",
   "execution_count": 134,
   "metadata": {},
   "outputs": [
    {
     "name": "stdin",
     "output_type": "stream",
     "text": [
      "Enter Token name:  Mytoken\n",
      "Enter 3 Identity Symbol for your token:  MTK\n",
      "Total supply of Mytoken (MTK) Tokens:  10000\n",
      "How many you want to own MTK tokens?:  100\n"
     ]
    }
   ],
   "source": [
    "name_token = input(\"Enter Token name: \").title()\n",
    "token_sym = token_symbol()\n",
    "token_supply = input(f\"Total supply of {name_token} ({token_sym}) Tokens: \")\n",
    "balance_of_owner = ownerToken_TotalToken(token_supply,token_sym)"
   ]
  },
  {
   "cell_type": "code",
   "execution_count": 135,
   "metadata": {},
   "outputs": [
    {
     "name": "stdout",
     "output_type": "stream",
     "text": [
      "\n",
      "pragma solidity ^0.4.4;\n",
      "\n",
      "contract Token {\n",
      "\n",
      "    function totalSupply() constant returns (uint256 supply) {}\n",
      "    function balanceOf(address _owner) constant returns (uint256 balance) {}\n",
      "    function transfer(address _to, uint256 _value) returns (bool success) {}\n",
      "    function transferFrom(address _from, address _to, uint256 _value) returns (bool success) {}\n",
      "    function approve(address _spender, uint256 _value) returns (bool success) {}\n",
      "    function allowance(address _owner, address _spender) constant returns (uint256 remaining) {}\n",
      "\n",
      "    event Transfer(address indexed _from, address indexed _to, uint256 _value);\n",
      "    event Approval(address indexed _owner, address indexed _spender, uint256 _value);\n",
      "    \n",
      "}\n",
      "\n",
      "contract StandardToken is Token {\n",
      "\n",
      "    function transfer(address _to, uint256 _value) returns (bool success) {\n",
      "        if (balances[msg.sender] >= _value && _value > 0) {\n",
      "            balances[msg.sender] -= _value;\n",
      "            balances[_to] += _value;\n",
      "            Transfer(msg.sender, _to, _value);\n",
      "            return true;\n",
      "        } else { return false; }\n",
      "    }\n",
      "\n",
      "    function transferFrom(address _from, address _to, uint256 _value) returns (bool success) {\n",
      "        if (balances[_from] >= _value && allowed[_from][msg.sender] >= _value && _value > 0) {\n",
      "            balances[_to] += _value;\n",
      "            balances[_from] -= _value;\n",
      "            allowed[_from][msg.sender] -= _value;\n",
      "            Transfer(_from, _to, _value);\n",
      "            return true;\n",
      "        } else { return false; }\n",
      "    }\n",
      "\n",
      "    function balanceOf(address _owner) constant returns (uint256 balance) {\n",
      "        return balances[_owner];\n",
      "    }\n",
      "\n",
      "    function approve(address _spender, uint256 _value) returns (bool success) {\n",
      "        allowed[msg.sender][_spender] = _value;\n",
      "        Approval(msg.sender, _spender, _value);\n",
      "        return true;\n",
      "    }\n",
      "\n",
      "    function allowance(address _owner, address _spender) constant returns (uint256 remaining) {\n",
      "      return allowed[_owner][_spender];\n",
      "    }\n",
      "\n",
      "    mapping (address => uint256) balances;\n",
      "    mapping (address => mapping (address => uint256)) allowed;\n",
      "    uint256 public totalSupply;\n",
      "}\n",
      "\n",
      "contract ERC20Token is StandardToken {\n",
      "\n",
      "    function () {\n",
      "        throw;\n",
      "\n",
      "    }\n",
      "\n",
      "    string public name;                   \n",
      "    uint8 public decimals;                \n",
      "    string public symbol;                 \n",
      "    string public version = 'H1.0';       \n",
      "\n",
      "    function ERC20Token(\n",
      "    ) {\n",
      "        balances[msg.sender] = 100;               \n",
      "        totalSupply = 10000;                        \n",
      "        name = \"Mytoken\";                 \n",
      "        decimals = 0;                            \n",
      "        symbol = \"MTK\";                         \n",
      "    }\n",
      "\n",
      "    \n",
      "    function approveAndCall(address _spender, uint256 _value, bytes _extraData) returns (bool success) {\n",
      "        allowed[msg.sender][_spender] = _value;\n",
      "        Approval(msg.sender, _spender, _value);\n",
      "\n",
      "        if(!_spender.call(bytes4(bytes32(sha3(\"receiveApproval(address,uint256,address,bytes)\"))), msg.sender, _value, this, _extraData)) { throw; }\n",
      "        return true;\n",
      "    }\n",
      "}\n",
      "\n"
     ]
    }
   ],
   "source": [
    "solidity_contract = '''\n",
    "pragma solidity ^0.4.4;\n",
    "\n",
    "contract Token {{\n",
    "\n",
    "    function totalSupply() constant returns (uint256 supply) {{}}\n",
    "    function balanceOf(address _owner) constant returns (uint256 balance) {{}}\n",
    "    function transfer(address _to, uint256 _value) returns (bool success) {{}}\n",
    "    function transferFrom(address _from, address _to, uint256 _value) returns (bool success) {{}}\n",
    "    function approve(address _spender, uint256 _value) returns (bool success) {{}}\n",
    "    function allowance(address _owner, address _spender) constant returns (uint256 remaining) {{}}\n",
    "\n",
    "    event Transfer(address indexed _from, address indexed _to, uint256 _value);\n",
    "    event Approval(address indexed _owner, address indexed _spender, uint256 _value);\n",
    "    \n",
    "}}\n",
    "\n",
    "contract StandardToken is Token {{\n",
    "\n",
    "    function transfer(address _to, uint256 _value) returns (bool success) {{\n",
    "        if (balances[msg.sender] >= _value && _value > 0) {{\n",
    "            balances[msg.sender] -= _value;\n",
    "            balances[_to] += _value;\n",
    "            Transfer(msg.sender, _to, _value);\n",
    "            return true;\n",
    "        }} else {{ return false; }}\n",
    "    }}\n",
    "\n",
    "    function transferFrom(address _from, address _to, uint256 _value) returns (bool success) {{\n",
    "        if (balances[_from] >= _value && allowed[_from][msg.sender] >= _value && _value > 0) {{\n",
    "            balances[_to] += _value;\n",
    "            balances[_from] -= _value;\n",
    "            allowed[_from][msg.sender] -= _value;\n",
    "            Transfer(_from, _to, _value);\n",
    "            return true;\n",
    "        }} else {{ return false; }}\n",
    "    }}\n",
    "\n",
    "    function balanceOf(address _owner) constant returns (uint256 balance) {{\n",
    "        return balances[_owner];\n",
    "    }}\n",
    "\n",
    "    function approve(address _spender, uint256 _value) returns (bool success) {{\n",
    "        allowed[msg.sender][_spender] = _value;\n",
    "        Approval(msg.sender, _spender, _value);\n",
    "        return true;\n",
    "    }}\n",
    "\n",
    "    function allowance(address _owner, address _spender) constant returns (uint256 remaining) {{\n",
    "      return allowed[_owner][_spender];\n",
    "    }}\n",
    "\n",
    "    mapping (address => uint256) balances;\n",
    "    mapping (address => mapping (address => uint256)) allowed;\n",
    "    uint256 public totalSupply;\n",
    "}}\n",
    "\n",
    "contract ERC20Token is StandardToken {{\n",
    "\n",
    "    function () {{\n",
    "        throw;\n",
    "\n",
    "    }}\n",
    "\n",
    "    string public name;                   \n",
    "    uint8 public decimals;                \n",
    "    string public symbol;                 \n",
    "    string public version = 'H1.0';       \n",
    "\n",
    "    function ERC20Token(\n",
    "    ) {{\n",
    "        balances[msg.sender] = {};               \n",
    "        totalSupply = {};                        \n",
    "        name = \"{}\";                 \n",
    "        decimals = 0;                            \n",
    "        symbol = \"{}\";                         \n",
    "    }}\n",
    "\n",
    "    \n",
    "    function approveAndCall(address _spender, uint256 _value, bytes _extraData) returns (bool success) {{\n",
    "        allowed[msg.sender][_spender] = _value;\n",
    "        Approval(msg.sender, _spender, _value);\n",
    "\n",
    "        if(!_spender.call(bytes4(bytes32(sha3(\"receiveApproval(address,uint256,address,bytes)\"))), msg.sender, _value, this, _extraData)) {{ throw; }}\n",
    "        return true;\n",
    "    }}\n",
    "}}\n",
    "'''.format(balance_of_owner,token_supply,name_token,token_sym)\n",
    "\n",
    "print(solidity_contract)"
   ]
  },
  {
   "cell_type": "markdown",
   "metadata": {},
   "source": [
    " ### Copy this solidity code to:"
   ]
  },
  {
   "cell_type": "code",
   "execution_count": null,
   "metadata": {},
   "outputs": [],
   "source": [
    "webbrowser.open(\"http://remix.ethereum.org/\")"
   ]
  },
  {
   "cell_type": "markdown",
   "metadata": {},
   "source": [
    "## Deploy the contract from address_2. Provide contract creation transaction_id and contract address (the address that is created when the contract is deployed) and 3 letters abbreviation of your coin. We will check the existence on the ropsten testnet."
   ]
  },
  {
   "cell_type": "markdown",
   "metadata": {},
   "source": [
    "Deploy using Injected web3 and address_2 in the Meta Mask:\n",
    "\n",
    "create contract starting \"deploy\""
   ]
  },
  {
   "cell_type": "markdown",
   "metadata": {},
   "source": [
    "### contract creation transaction_id: 0xe1145776fa0b5225526ea6297b822526c53a9da33ad32f1994fdf2f83c1b2c75\n",
    "\n",
    "### contract address: 0x0377C0190f2138D3a06c4cdE3267F531f331854B\n",
    "\n",
    "### 3 letters abbreviation of your coin: MTK"
   ]
  },
  {
   "cell_type": "markdown",
   "metadata": {},
   "source": [
    "## Send ten tokens to 0x7F0623b3Ed830BF5e7CE54A8a3cE7676779522F9 address. (Provide Transaction Id)"
   ]
  },
  {
   "cell_type": "raw",
   "metadata": {},
   "source": [
    "use \"transfer\" to: 0x7F0623b3Ed830BF5e7CE54A8a3cE7676779522F9"
   ]
  },
  {
   "cell_type": "markdown",
   "metadata": {},
   "source": [
    "### Transaction Id: 0xdd68be2303c9c91e34f4a2ac1f24685fc475ff813319ebb2da67183cf4b8f498"
   ]
  }
 ],
 "metadata": {
  "kernelspec": {
   "display_name": "Python 3",
   "language": "python",
   "name": "python3"
  },
  "language_info": {
   "codemirror_mode": {
    "name": "ipython",
    "version": 3
   },
   "file_extension": ".py",
   "mimetype": "text/x-python",
   "name": "python",
   "nbconvert_exporter": "python",
   "pygments_lexer": "ipython3",
   "version": "3.8.5"
  }
 },
 "nbformat": 4,
 "nbformat_minor": 4
}

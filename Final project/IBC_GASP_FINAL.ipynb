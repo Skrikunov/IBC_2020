{
  "nbformat": 4,
  "nbformat_minor": 0,
  "metadata": {
    "kernelspec": {
      "display_name": "Python 3",
      "language": "python",
      "name": "python3"
    },
    "language_info": {
      "codemirror_mode": {
        "name": "ipython",
        "version": 3
      },
      "file_extension": ".py",
      "mimetype": "text/x-python",
      "name": "python",
      "nbconvert_exporter": "python",
      "pygments_lexer": "ipython3",
      "version": "3.8.3"
    },
    "colab": {
      "name": "IBC_GASP_CODE",
      "provenance": [],
      "collapsed_sections": [],
      "toc_visible": true
    }
  },
  "cells": [
    {
      "cell_type": "markdown",
      "metadata": {
        "id": "de_N2euU17jK"
      },
      "source": [
        "# Initial A and B matrixes generation"
      ]
    },
    {
      "cell_type": "code",
      "metadata": {
        "colab": {
          "base_uri": "https://localhost:8080/",
          "height": 271
        },
        "id": "eUhFSIZr17jT",
        "outputId": "a710ada2-848f-4525-a704-a9fc39dec166"
      },
      "source": [
        "import numpy as np\n",
        "\n",
        "K, L, T = 3, 3, 2 # A, B submatrixies\n",
        "p = 29 # field (finite or np.inf)\n",
        "\n",
        "bound = 12 # values boundaries\n",
        "\n",
        "# sizes: size_A * width_AB and width_AB * size_B => result size_A * size_B\n",
        "width_AB = 3\n",
        "size_A, size_B = 9, 9\n",
        "\n",
        "assert size_A % K == 0, 'Please, use multiples of each other numbers'\n",
        "assert size_B % L == 0, 'Please, use multiples of each other numbers'\n",
        "\n",
        "A = np.matrix(np.random.randint(0, bound, (width_AB, size_A))).astype(object).T % p\n",
        "B = np.matrix(np.random.randint(0, bound, (width_AB, size_B))).astype(object) % p\n",
        "\n",
        "print('Matrices A, B have been generated')\n",
        "display('A = ', A)\n",
        "display('B = ', B)"
      ],
      "execution_count": 37,
      "outputs": [
        {
          "output_type": "stream",
          "text": [
            "Matrices A, B have been generated\n"
          ],
          "name": "stdout"
        },
        {
          "output_type": "display_data",
          "data": {
            "application/vnd.google.colaboratory.intrinsic+json": {
              "type": "string"
            },
            "text/plain": [
              "'A = '"
            ]
          },
          "metadata": {
            "tags": []
          }
        },
        {
          "output_type": "display_data",
          "data": {
            "text/plain": [
              "matrix([[9, 6, 7],\n",
              "        [9, 5, 8],\n",
              "        [0, 2, 1],\n",
              "        [2, 4, 9],\n",
              "        [10, 8, 11],\n",
              "        [0, 5, 8],\n",
              "        [8, 7, 9],\n",
              "        [11, 5, 7],\n",
              "        [3, 3, 9]], dtype=object)"
            ]
          },
          "metadata": {
            "tags": []
          }
        },
        {
          "output_type": "display_data",
          "data": {
            "application/vnd.google.colaboratory.intrinsic+json": {
              "type": "string"
            },
            "text/plain": [
              "'B = '"
            ]
          },
          "metadata": {
            "tags": []
          }
        },
        {
          "output_type": "display_data",
          "data": {
            "text/plain": [
              "matrix([[0, 8, 7, 9, 10, 5, 9, 3, 11],\n",
              "        [11, 2, 3, 4, 3, 3, 7, 3, 10],\n",
              "        [7, 10, 1, 10, 4, 11, 10, 9, 1]], dtype=object)"
            ]
          },
          "metadata": {
            "tags": []
          }
        }
      ]
    },
    {
      "cell_type": "markdown",
      "metadata": {
        "id": "ap4uymEV17jV"
      },
      "source": [
        "# Regular A and B multiplication"
      ]
    },
    {
      "cell_type": "code",
      "metadata": {
        "colab": {
          "base_uri": "https://localhost:8080/"
        },
        "id": "InxZNS2i17jW",
        "outputId": "337081e8-daec-4940-819d-52ad2fe8c759"
      },
      "source": [
        "REG_MAT_MUL = A @ B % p\n",
        "REG_MAT_MUL"
      ],
      "execution_count": 38,
      "outputs": [
        {
          "output_type": "execute_result",
          "data": {
            "text/plain": [
              "matrix([[28, 9, 1, 1, 20, 24, 19, 21, 21],\n",
              "        [24, 17, 28, 7, 21, 3, 22, 27, 12],\n",
              "        [0, 14, 7, 18, 10, 17, 24, 15, 21],\n",
              "        [20, 27, 6, 8, 10, 5, 20, 12, 13],\n",
              "        [20, 3, 18, 0, 23, 21, 24, 8, 27],\n",
              "        [24, 3, 23, 13, 18, 16, 28, 0, 0],\n",
              "        [24, 23, 28, 16, 21, 15, 8, 10, 22],\n",
              "        [17, 23, 12, 15, 8, 2, 1, 24, 4],\n",
              "        [9, 4, 10, 13, 17, 7, 22, 12, 14]], dtype=object)"
            ]
          },
          "metadata": {
            "tags": []
          },
          "execution_count": 38
        }
      ]
    },
    {
      "cell_type": "markdown",
      "metadata": {
        "id": "3FZGATCa17jW"
      },
      "source": [
        "# Genearating A_k, B_l, k = 1...K, l = 1...L submatrixes"
      ]
    },
    {
      "cell_type": "code",
      "metadata": {
        "colab": {
          "base_uri": "https://localhost:8080/",
          "height": 456
        },
        "id": "NI7H7oAZ17jW",
        "outputId": "d34b916c-c522-4453-903a-471d4c6788f3"
      },
      "source": [
        "# A submatrices\n",
        "print('Submatrices A_i have been generated')\n",
        "A_ = np.zeros([K, int(size_A / K), width_AB], dtype= object)\n",
        "for i in range(K):\n",
        "    A_[i] = np.split(A, K, axis = 0)[i] % p\n",
        "display('A = ', A_)\n",
        "\n",
        "# B submatrices\n",
        "print('Submatrices B_i have been generated')\n",
        "B_ = np.zeros([L, width_AB, int(size_B / L)], dtype= object)\n",
        "for i in range(L):\n",
        "    B_[i] = np.split(B, L, axis = 1)[i] % p\n",
        "display('B = ', B_)"
      ],
      "execution_count": 39,
      "outputs": [
        {
          "output_type": "stream",
          "text": [
            "Submatrices A_i have been generated\n"
          ],
          "name": "stdout"
        },
        {
          "output_type": "display_data",
          "data": {
            "application/vnd.google.colaboratory.intrinsic+json": {
              "type": "string"
            },
            "text/plain": [
              "'A = '"
            ]
          },
          "metadata": {
            "tags": []
          }
        },
        {
          "output_type": "display_data",
          "data": {
            "text/plain": [
              "array([[[9, 6, 7],\n",
              "        [9, 5, 8],\n",
              "        [0, 2, 1]],\n",
              "\n",
              "       [[2, 4, 9],\n",
              "        [10, 8, 11],\n",
              "        [0, 5, 8]],\n",
              "\n",
              "       [[8, 7, 9],\n",
              "        [11, 5, 7],\n",
              "        [3, 3, 9]]], dtype=object)"
            ]
          },
          "metadata": {
            "tags": []
          }
        },
        {
          "output_type": "stream",
          "text": [
            "Submatrices B_i have been generated\n"
          ],
          "name": "stdout"
        },
        {
          "output_type": "display_data",
          "data": {
            "application/vnd.google.colaboratory.intrinsic+json": {
              "type": "string"
            },
            "text/plain": [
              "'B = '"
            ]
          },
          "metadata": {
            "tags": []
          }
        },
        {
          "output_type": "display_data",
          "data": {
            "text/plain": [
              "array([[[0, 8, 7],\n",
              "        [11, 2, 3],\n",
              "        [7, 10, 1]],\n",
              "\n",
              "       [[9, 10, 5],\n",
              "        [4, 3, 3],\n",
              "        [10, 4, 11]],\n",
              "\n",
              "       [[9, 3, 11],\n",
              "        [7, 3, 10],\n",
              "        [10, 9, 1]]], dtype=object)"
            ]
          },
          "metadata": {
            "tags": []
          }
        }
      ]
    },
    {
      "cell_type": "markdown",
      "metadata": {
        "id": "1ASwS2CH17jX"
      },
      "source": [
        "# Multiplication using A_k, B_l parts"
      ]
    },
    {
      "cell_type": "code",
      "metadata": {
        "colab": {
          "base_uri": "https://localhost:8080/"
        },
        "id": "8WdXnXeo17jX",
        "outputId": "cdaed24a-cdb8-4b27-e36d-905ee3a5cc66"
      },
      "source": [
        "result = np.zeros([size_A, size_B], dtype= object) # we know size to be calculated\n",
        "for i in range(0, A_.shape[0], 1): # for each partial A matrix\n",
        "    for j in range(0, B_.shape[0], 1): # for each partial B matrix\n",
        "        delta_A, delta_B = int(size_A / K), int(size_B / L)\n",
        "        # calculate each result A_[i] @ B_[j] separately\n",
        "        result[delta_A*i:delta_A*(i+1), delta_B*j:delta_B*(j+1)] = A_[i] @ B_[j] % p\n",
        "PARTED_MAT_MUL = result\n",
        "PARTED_MAT_MUL % p"
      ],
      "execution_count": 40,
      "outputs": [
        {
          "output_type": "execute_result",
          "data": {
            "text/plain": [
              "array([[28, 9, 1, 1, 20, 24, 19, 21, 21],\n",
              "       [24, 17, 28, 7, 21, 3, 22, 27, 12],\n",
              "       [0, 14, 7, 18, 10, 17, 24, 15, 21],\n",
              "       [20, 27, 6, 8, 10, 5, 20, 12, 13],\n",
              "       [20, 3, 18, 0, 23, 21, 24, 8, 27],\n",
              "       [24, 3, 23, 13, 18, 16, 28, 0, 0],\n",
              "       [24, 23, 28, 16, 21, 15, 8, 10, 22],\n",
              "       [17, 23, 12, 15, 8, 2, 1, 24, 4],\n",
              "       [9, 4, 10, 13, 17, 7, 22, 12, 14]], dtype=object)"
            ]
          },
          "metadata": {
            "tags": []
          },
          "execution_count": 40
        }
      ]
    },
    {
      "cell_type": "markdown",
      "metadata": {
        "id": "mrEX9N_017jX"
      },
      "source": [
        "# Check if regular mat.mul equals to partial mat.mul"
      ]
    },
    {
      "cell_type": "code",
      "metadata": {
        "colab": {
          "base_uri": "https://localhost:8080/"
        },
        "id": "viv_64dz17jY",
        "outputId": "381c6ec5-1668-4a2e-9f7a-3c429d1ec2e8"
      },
      "source": [
        "PARTED_MAT_MUL == REG_MAT_MUL"
      ],
      "execution_count": 41,
      "outputs": [
        {
          "output_type": "execute_result",
          "data": {
            "text/plain": [
              "matrix([[ True,  True,  True,  True,  True,  True,  True,  True,  True],\n",
              "        [ True,  True,  True,  True,  True,  True,  True,  True,  True],\n",
              "        [ True,  True,  True,  True,  True,  True,  True,  True,  True],\n",
              "        [ True,  True,  True,  True,  True,  True,  True,  True,  True],\n",
              "        [ True,  True,  True,  True,  True,  True,  True,  True,  True],\n",
              "        [ True,  True,  True,  True,  True,  True,  True,  True,  True],\n",
              "        [ True,  True,  True,  True,  True,  True,  True,  True,  True],\n",
              "        [ True,  True,  True,  True,  True,  True,  True,  True,  True],\n",
              "        [ True,  True,  True,  True,  True,  True,  True,  True,  True]])"
            ]
          },
          "metadata": {
            "tags": []
          },
          "execution_count": 41
        }
      ]
    },
    {
      "cell_type": "markdown",
      "metadata": {
        "id": "fGvRJs0B17jY"
      },
      "source": [
        "# Encoding procedure\n",
        "\n",
        "### S_t, R_t submatrices generation, t = 1...T"
      ]
    },
    {
      "cell_type": "code",
      "metadata": {
        "colab": {
          "base_uri": "https://localhost:8080/",
          "height": 322
        },
        "id": "NBNV9yQA17jY",
        "outputId": "c8eb8fb3-603c-4bcf-e076-755406ae8ef5"
      },
      "source": [
        "# S submatrices\n",
        "print('Submatrices R_i have been generated')\n",
        "R_ = np.zeros([T, int(size_A / K), width_AB], dtype= object)\n",
        "for i in range(T):\n",
        "    R_[i] = np.matrix(np.random.randint(1, bound, (int(size_A / K), width_AB))) % p\n",
        "display('R_ = ', R_)\n",
        "\n",
        "# R submatrices\n",
        "print('Submatrices S_i have been generated')\n",
        "S_ = np.zeros([T, width_AB, int(size_B / L)], dtype= object)\n",
        "for i in range(T):\n",
        "    S_[i] = np.matrix(np.random.randint(1, bound, (width_AB, int(size_B / L)))) % p\n",
        "display('S_ = ', S_)"
      ],
      "execution_count": 42,
      "outputs": [
        {
          "output_type": "stream",
          "text": [
            "Submatrices R_i have been generated\n"
          ],
          "name": "stdout"
        },
        {
          "output_type": "display_data",
          "data": {
            "application/vnd.google.colaboratory.intrinsic+json": {
              "type": "string"
            },
            "text/plain": [
              "'R_ = '"
            ]
          },
          "metadata": {
            "tags": []
          }
        },
        {
          "output_type": "display_data",
          "data": {
            "text/plain": [
              "array([[[11, 10, 2],\n",
              "        [4, 3, 1],\n",
              "        [10, 5, 2]],\n",
              "\n",
              "       [[7, 8, 8],\n",
              "        [3, 11, 8],\n",
              "        [10, 9, 10]]], dtype=object)"
            ]
          },
          "metadata": {
            "tags": []
          }
        },
        {
          "output_type": "stream",
          "text": [
            "Submatrices S_i have been generated\n"
          ],
          "name": "stdout"
        },
        {
          "output_type": "display_data",
          "data": {
            "application/vnd.google.colaboratory.intrinsic+json": {
              "type": "string"
            },
            "text/plain": [
              "'S_ = '"
            ]
          },
          "metadata": {
            "tags": []
          }
        },
        {
          "output_type": "display_data",
          "data": {
            "text/plain": [
              "array([[[7, 6, 4],\n",
              "        [7, 10, 8],\n",
              "        [2, 4, 5]],\n",
              "\n",
              "       [[5, 7, 11],\n",
              "        [3, 6, 1],\n",
              "        [11, 3, 3]]], dtype=object)"
            ]
          },
          "metadata": {
            "tags": []
          }
        }
      ]
    },
    {
      "cell_type": "markdown",
      "metadata": {
        "id": "XIrpJarl17jZ"
      },
      "source": [
        "# Vector of coefficients of f(x) and g(x): A1,A2,A3,R1,R2..."
      ]
    },
    {
      "cell_type": "code",
      "metadata": {
        "colab": {
          "base_uri": "https://localhost:8080/",
          "height": 691
        },
        "id": "koOniKF_17jZ",
        "outputId": "c14be67d-15a4-4bed-eb36-ec015895f0d2"
      },
      "source": [
        "F_X = np.vstack((A_, R_)) # vertical concatination (F_X = A1,A2,A3,R1,R2)\n",
        "G_X = np.vstack((B_, S_)) # vertical concatination (G_X = B1,B2,B3,S1,S2)\n",
        "\n",
        "display('F_X = ', F_X)\n",
        "display('G_X = ', G_X)"
      ],
      "execution_count": 43,
      "outputs": [
        {
          "output_type": "display_data",
          "data": {
            "application/vnd.google.colaboratory.intrinsic+json": {
              "type": "string"
            },
            "text/plain": [
              "'F_X = '"
            ]
          },
          "metadata": {
            "tags": []
          }
        },
        {
          "output_type": "display_data",
          "data": {
            "text/plain": [
              "array([[[9, 6, 7],\n",
              "        [9, 5, 8],\n",
              "        [0, 2, 1]],\n",
              "\n",
              "       [[2, 4, 9],\n",
              "        [10, 8, 11],\n",
              "        [0, 5, 8]],\n",
              "\n",
              "       [[8, 7, 9],\n",
              "        [11, 5, 7],\n",
              "        [3, 3, 9]],\n",
              "\n",
              "       [[11, 10, 2],\n",
              "        [4, 3, 1],\n",
              "        [10, 5, 2]],\n",
              "\n",
              "       [[7, 8, 8],\n",
              "        [3, 11, 8],\n",
              "        [10, 9, 10]]], dtype=object)"
            ]
          },
          "metadata": {
            "tags": []
          }
        },
        {
          "output_type": "display_data",
          "data": {
            "application/vnd.google.colaboratory.intrinsic+json": {
              "type": "string"
            },
            "text/plain": [
              "'G_X = '"
            ]
          },
          "metadata": {
            "tags": []
          }
        },
        {
          "output_type": "display_data",
          "data": {
            "text/plain": [
              "array([[[0, 8, 7],\n",
              "        [11, 2, 3],\n",
              "        [7, 10, 1]],\n",
              "\n",
              "       [[9, 10, 5],\n",
              "        [4, 3, 3],\n",
              "        [10, 4, 11]],\n",
              "\n",
              "       [[9, 3, 11],\n",
              "        [7, 3, 10],\n",
              "        [10, 9, 1]],\n",
              "\n",
              "       [[7, 6, 4],\n",
              "        [7, 10, 8],\n",
              "        [2, 4, 5]],\n",
              "\n",
              "       [[5, 7, 11],\n",
              "        [3, 6, 1],\n",
              "        [11, 3, 3]]], dtype=object)"
            ]
          },
          "metadata": {
            "tags": []
          }
        }
      ]
    },
    {
      "cell_type": "markdown",
      "metadata": {
        "id": "x2LbWXB917jZ"
      },
      "source": [
        "# Alpha and beta arrays: alphas(K+T), betas(L+T), N servers"
      ]
    },
    {
      "cell_type": "code",
      "metadata": {
        "id": "WFxMn7is17jZ"
      },
      "source": [
        "# GASP BIG (N calculation)\n",
        "def get_N_GB(K, L, T):\n",
        "    N = 0\n",
        "    if L <= K:\n",
        "        if T < K:\n",
        "            N = (K + T) * (L + 1) - 1\n",
        "        elif T >= K:\n",
        "            N = 2 * K * L + 2 * T - 1\n",
        "    if L > K:\n",
        "        if T < L:\n",
        "            N = (L + T) * (K + 1) - 1\n",
        "        elif T >= L:\n",
        "            N = 2 * K * L + 2 * T - 1\n",
        "    return N\n",
        "\n",
        "# GASP SMALL (N calculation)\n",
        "def get_N_GS(K, L, T):\n",
        "    N = 0\n",
        "    if K <= L:\n",
        "        if L == 1 and T < K:\n",
        "            N = 2*K + T*T\n",
        "        elif L == 1 and T >= K:\n",
        "            N = K*T + K + T\n",
        "        elif L >=2 and T == 1 and T < K:\n",
        "            N = K*L + K + L\n",
        "        elif L >=2 and T >=2 and T < K:\n",
        "            N = K*L + K + L + T*T + T - 3\n",
        "        elif L >= 2 and K <= T and T <= K * (L - 1) + 1:\n",
        "            N = K*L + K*T + L + 2*T - 3 - ((T - 2) / K)\n",
        "        elif L >= 2 and T >= K * (L - 1) + 1:\n",
        "            N = 2*K*L + K*T - K + T\n",
        "    if K > L:\n",
        "        if K == 1 and T < L:\n",
        "            N = 2*L + T*T\n",
        "        elif K == 1 and T >= L:\n",
        "            N = L*T + L + T\n",
        "        elif K >=2 and T == 1 and T < L:\n",
        "            N = K*L + K + L\n",
        "        elif K >=2 and T >= 2 and T < L:\n",
        "            N = K*L + K + L + T*T + T - 3\n",
        "        elif K >= 2 and L <= T and T <= L * (K - 1) + 1:\n",
        "            N = K*L + L*T + K + 2*T - 3 - ((T - 2) / L)\n",
        "        elif K >= 2 and T >= L * (K - 1) + 1:\n",
        "            N = 2*K*L + L*T - L + T\n",
        "    return N\n",
        "\n",
        "# the set of degrees\n",
        "def GASP_big(K, L, T):\n",
        "    if K >= L:\n",
        "        a = np.zeros([K + T], dtype= object)\n",
        "        b = np.zeros([L + T], dtype= object)\n",
        "        for k in range(0, K, 1):\n",
        "            a[k] = k\n",
        "        for t in range(0, T, 1):\n",
        "            a[K + t] = K * L + t\n",
        "\n",
        "        for l in range(0, L, 1):\n",
        "            b[l] = K * l\n",
        "        for t in range(0, T, 1):\n",
        "            b[L + t] = K * L + t\n",
        "\n",
        "    if K < L:\n",
        "        a = np.zeros([L + T], dtype= object)\n",
        "        b = np.zeros([K + T], dtype= object)\n",
        "        \n",
        "        for l in range(0, L, 1):\n",
        "            a[l] = K * l\n",
        "        for t in range(0, T, 1):\n",
        "            a[L + t] = K * L + t\n",
        "        \n",
        "        for k in range(0, K, 1):\n",
        "            b[k] = k\n",
        "        for t in range(0, T, 1):\n",
        "            b[K + t] = K * L + t\n",
        "\n",
        "    return a, b\n",
        "\n",
        "# the set of degrees\n",
        "def GASP_small(K, L, T):\n",
        "    if K <= L:\n",
        "        a = np.zeros([K + T])\n",
        "        b = np.zeros([L + T])\n",
        "        for k in range(0, K, 1):\n",
        "            a[k] = k\n",
        "        for t in range(0, T, 1):\n",
        "            a[K + t] = K * L + K * t\n",
        "\n",
        "        for l in range(0, L, 1):\n",
        "            b[l] = K * l\n",
        "        for t in range(0, T, 1):\n",
        "            b[L + t] = K * L + t\n",
        "\n",
        "    if K > L:\n",
        "        a = np.zeros([L + T])\n",
        "        b = np.zeros([K + T])\n",
        "\n",
        "        for l in range(0, L, 1):\n",
        "            a[l] = K * l\n",
        "        for t in range(0, T, 1):\n",
        "            a[L + t] = K * L + t\n",
        "        \n",
        "        for k in range(0, K, 1):\n",
        "            b[k] = k\n",
        "        for t in range(0, T, 1):\n",
        "            b[K + t] = K * L + K * t\n",
        "\n",
        "    return a, b\n",
        "\n",
        "def GASP(K, L, T):\n",
        "    min_KL = np.minimum(K, L)\n",
        "    \n",
        "    if T < min_KL:\n",
        "        alp, bet = GASP_small(K, L, T)\n",
        "        N = get_N_GS(K, L, T)\n",
        "        print('T < min(K,L) - GASP_small, N = ', N)\n",
        "        \n",
        "    if T >= min_KL:\n",
        "        alp, bet = GASP_big(K, L, T)\n",
        "        N = get_N_GB(K, L, T)\n",
        "        print('T >= min(K,L) - GASP_big, N = ', N)\n",
        "        \n",
        "    return alp, bet, N"
      ],
      "execution_count": 44,
      "outputs": []
    },
    {
      "cell_type": "markdown",
      "metadata": {
        "id": "CcBYxjM517ja"
      },
      "source": [
        "# Print N, alpha and beta sets corresponding current K,L,T"
      ]
    },
    {
      "cell_type": "code",
      "metadata": {
        "colab": {
          "base_uri": "https://localhost:8080/",
          "height": 103
        },
        "id": "k-EOy5I617jb",
        "outputId": "c7909793-9a78-4bd0-d08c-d9d84e76723e"
      },
      "source": [
        "alphas, betas, N = GASP(K = K, L = L, T = T)\n",
        "display('alphas = ', alphas)\n",
        "display('betas = ', betas)"
      ],
      "execution_count": 45,
      "outputs": [
        {
          "output_type": "stream",
          "text": [
            "T < min(K,L) - GASP_small, N =  18\n"
          ],
          "name": "stdout"
        },
        {
          "output_type": "display_data",
          "data": {
            "application/vnd.google.colaboratory.intrinsic+json": {
              "type": "string"
            },
            "text/plain": [
              "'alphas = '"
            ]
          },
          "metadata": {
            "tags": []
          }
        },
        {
          "output_type": "display_data",
          "data": {
            "text/plain": [
              "array([ 0.,  1.,  2.,  9., 12.])"
            ]
          },
          "metadata": {
            "tags": []
          }
        },
        {
          "output_type": "display_data",
          "data": {
            "application/vnd.google.colaboratory.intrinsic+json": {
              "type": "string"
            },
            "text/plain": [
              "'betas = '"
            ]
          },
          "metadata": {
            "tags": []
          }
        },
        {
          "output_type": "display_data",
          "data": {
            "text/plain": [
              "array([ 0.,  3.,  6.,  9., 10.])"
            ]
          },
          "metadata": {
            "tags": []
          }
        }
      ]
    },
    {
      "cell_type": "markdown",
      "metadata": {
        "id": "7fMcJUle17jb"
      },
      "source": [
        "# Let's build the degree table"
      ]
    },
    {
      "cell_type": "code",
      "metadata": {
        "colab": {
          "base_uri": "https://localhost:8080/",
          "height": 119
        },
        "id": "BXrtgjrv17jb",
        "outputId": "094ece99-766f-44a1-90ec-b80f497c3b01"
      },
      "source": [
        "degree_table = np.zeros([alphas.shape[0], betas.shape[0]], dtype= object)\n",
        "\n",
        "for i in range(alphas.shape[0]):\n",
        "    for j in range(betas.shape[0]):\n",
        "        degree_table[i,j] = alphas[i] + betas[j]\n",
        "        \n",
        "display('degree_table =', degree_table)"
      ],
      "execution_count": 46,
      "outputs": [
        {
          "output_type": "display_data",
          "data": {
            "application/vnd.google.colaboratory.intrinsic+json": {
              "type": "string"
            },
            "text/plain": [
              "'degree_table ='"
            ]
          },
          "metadata": {
            "tags": []
          }
        },
        {
          "output_type": "display_data",
          "data": {
            "text/plain": [
              "array([[0.0, 3.0, 6.0, 9.0, 10.0],\n",
              "       [1.0, 4.0, 7.0, 10.0, 11.0],\n",
              "       [2.0, 5.0, 8.0, 11.0, 12.0],\n",
              "       [9.0, 12.0, 15.0, 18.0, 19.0],\n",
              "       [12.0, 15.0, 18.0, 21.0, 22.0]], dtype=object)"
            ]
          },
          "metadata": {
            "tags": []
          }
        }
      ]
    },
    {
      "cell_type": "markdown",
      "metadata": {
        "id": "tmCYTMpx17jc"
      },
      "source": [
        "# The set of unique polnom's powers"
      ]
    },
    {
      "cell_type": "code",
      "metadata": {
        "colab": {
          "base_uri": "https://localhost:8080/"
        },
        "id": "qLILVcgq17jc",
        "outputId": "cae401cd-8039-400b-941c-0c0be7faa670"
      },
      "source": [
        "J = np.unique(degree_table.reshape([degree_table.size]))\n",
        "\n",
        "print('All degrees in table = ', J)"
      ],
      "execution_count": 47,
      "outputs": [
        {
          "output_type": "stream",
          "text": [
            "All degrees in table =  [0.0 1.0 2.0 3.0 4.0 5.0 6.0 7.0 8.0 9.0 10.0 11.0 12.0 15.0 18.0 19.0\n",
            " 21.0 22.0]\n"
          ],
          "name": "stdout"
        }
      ]
    },
    {
      "cell_type": "markdown",
      "metadata": {
        "id": "9gJy73J117jd"
      },
      "source": [
        "# Set of x points for N servers"
      ]
    },
    {
      "cell_type": "code",
      "metadata": {
        "colab": {
          "base_uri": "https://localhost:8080/"
        },
        "id": "ujg1Hr8P17jd",
        "outputId": "bd3648c9-7300-4315-b14c-71562ed016a8"
      },
      "source": [
        "x = np.arange(1, N+1).reshape([N,1]) @ np.ones([1,K+T], dtype= object)\n",
        "x"
      ],
      "execution_count": 48,
      "outputs": [
        {
          "output_type": "execute_result",
          "data": {
            "text/plain": [
              "array([[1, 1, 1, 1, 1],\n",
              "       [2, 2, 2, 2, 2],\n",
              "       [3, 3, 3, 3, 3],\n",
              "       [4, 4, 4, 4, 4],\n",
              "       [5, 5, 5, 5, 5],\n",
              "       [6, 6, 6, 6, 6],\n",
              "       [7, 7, 7, 7, 7],\n",
              "       [8, 8, 8, 8, 8],\n",
              "       [9, 9, 9, 9, 9],\n",
              "       [10, 10, 10, 10, 10],\n",
              "       [11, 11, 11, 11, 11],\n",
              "       [12, 12, 12, 12, 12],\n",
              "       [13, 13, 13, 13, 13],\n",
              "       [14, 14, 14, 14, 14],\n",
              "       [15, 15, 15, 15, 15],\n",
              "       [16, 16, 16, 16, 16],\n",
              "       [17, 17, 17, 17, 17],\n",
              "       [18, 18, 18, 18, 18]], dtype=object)"
            ]
          },
          "metadata": {
            "tags": []
          },
          "execution_count": 48
        }
      ]
    },
    {
      "cell_type": "markdown",
      "metadata": {
        "id": "ORCenKHo17jd"
      },
      "source": [
        "# Set of alphas and betas for N servers"
      ]
    },
    {
      "cell_type": "code",
      "metadata": {
        "colab": {
          "base_uri": "https://localhost:8080/"
        },
        "id": "YsCW1_3S17je",
        "outputId": "e13887b4-d4eb-49fd-8cda-fb2e648d77fe"
      },
      "source": [
        "alfa = np.ones([N,1], dtype= object) @ alphas.reshape([1,alphas.size])\n",
        "beta = np.ones([N,1], dtype= object) @ betas.reshape([1,betas.size])\n",
        "alfa"
      ],
      "execution_count": 49,
      "outputs": [
        {
          "output_type": "execute_result",
          "data": {
            "text/plain": [
              "array([[0.0, 1.0, 2.0, 9.0, 12.0],\n",
              "       [0.0, 1.0, 2.0, 9.0, 12.0],\n",
              "       [0.0, 1.0, 2.0, 9.0, 12.0],\n",
              "       [0.0, 1.0, 2.0, 9.0, 12.0],\n",
              "       [0.0, 1.0, 2.0, 9.0, 12.0],\n",
              "       [0.0, 1.0, 2.0, 9.0, 12.0],\n",
              "       [0.0, 1.0, 2.0, 9.0, 12.0],\n",
              "       [0.0, 1.0, 2.0, 9.0, 12.0],\n",
              "       [0.0, 1.0, 2.0, 9.0, 12.0],\n",
              "       [0.0, 1.0, 2.0, 9.0, 12.0],\n",
              "       [0.0, 1.0, 2.0, 9.0, 12.0],\n",
              "       [0.0, 1.0, 2.0, 9.0, 12.0],\n",
              "       [0.0, 1.0, 2.0, 9.0, 12.0],\n",
              "       [0.0, 1.0, 2.0, 9.0, 12.0],\n",
              "       [0.0, 1.0, 2.0, 9.0, 12.0],\n",
              "       [0.0, 1.0, 2.0, 9.0, 12.0],\n",
              "       [0.0, 1.0, 2.0, 9.0, 12.0],\n",
              "       [0.0, 1.0, 2.0, 9.0, 12.0]], dtype=object)"
            ]
          },
          "metadata": {
            "tags": []
          },
          "execution_count": 49
        }
      ]
    },
    {
      "cell_type": "markdown",
      "metadata": {
        "id": "lClYDV7E17jf"
      },
      "source": [
        "# Set of x^alphas and x^betas for N servers"
      ]
    },
    {
      "cell_type": "code",
      "metadata": {
        "colab": {
          "base_uri": "https://localhost:8080/"
        },
        "id": "p0X4nrDQ17jf",
        "outputId": "e3bff171-bf73-4a94-c6a6-7fb3f3e57e00"
      },
      "source": [
        "f_x_coefs = x**alfa % p\n",
        "g_x_coefs = x**beta % p\n",
        "f_x_coefs"
      ],
      "execution_count": 50,
      "outputs": [
        {
          "output_type": "execute_result",
          "data": {
            "text/plain": [
              "array([[1.0, 1.0, 1.0, 1.0, 1.0],\n",
              "       [1.0, 2.0, 4.0, 19.0, 7.0],\n",
              "       [1.0, 3.0, 9.0, 21.0, 16.0],\n",
              "       [1.0, 4.0, 16.0, 13.0, 20.0],\n",
              "       [1.0, 5.0, 25.0, 4.0, 7.0],\n",
              "       [1.0, 6.0, 7.0, 22.0, 25.0],\n",
              "       [1.0, 7.0, 20.0, 20.0, 16.0],\n",
              "       [1.0, 8.0, 6.0, 15.0, 24.0],\n",
              "       [1.0, 9.0, 23.0, 6.0, 24.0],\n",
              "       [1.0, 10.0, 13.0, 18.0, 20.0],\n",
              "       [1.0, 11.0, 5.0, 2.0, 23.0],\n",
              "       [1.0, 12.0, 28.0, 12.0, 1.0],\n",
              "       [1.0, 13.0, 24.0, 5.0, 23.0],\n",
              "       [1.0, 14.0, 22.0, 3.0, 25.0],\n",
              "       [1.0, 15.0, 22.0, 26.0, 25.0],\n",
              "       [1.0, 16.0, 24.0, 24.0, 23.0],\n",
              "       [1.0, 17.0, 28.0, 17.0, 1.0],\n",
              "       [1.0, 18.0, 5.0, 27.0, 23.0]], dtype=object)"
            ]
          },
          "metadata": {
            "tags": []
          },
          "execution_count": 50
        }
      ]
    },
    {
      "cell_type": "markdown",
      "metadata": {
        "id": "otRW_rkn17jf"
      },
      "source": [
        "# Polynoms f(x) and g(x) for each server (separate values, not sum)"
      ]
    },
    {
      "cell_type": "code",
      "metadata": {
        "id": "_g0_1PN717jg"
      },
      "source": [
        "m = int(size_A / K) # size of submatrixes A\n",
        "n = int(size_B / L) # size of submatrixes B"
      ],
      "execution_count": 51,
      "outputs": []
    },
    {
      "cell_type": "code",
      "metadata": {
        "colab": {
          "base_uri": "https://localhost:8080/",
          "height": 354
        },
        "id": "K-ZtlMTu17jg",
        "outputId": "056e6baa-3fe2-412b-8fb3-f10ade1a25d4"
      },
      "source": [
        "f_x = np.zeros([N, alphas.size, m,n], dtype= object)\n",
        "g_x = np.zeros([N, betas.size, m,n], dtype= object)\n",
        "\n",
        "for i in range(N):\n",
        "    for j in range(5):\n",
        "        f_x[i,j] = f_x_coefs[i,j] * F_X[j] % p\n",
        "        g_x[i,j] = g_x_coefs[i,j] * G_X[j] % p\n",
        "        \n",
        "display('f_x[i] = ', f_x[1].astype('int'))"
      ],
      "execution_count": 52,
      "outputs": [
        {
          "output_type": "display_data",
          "data": {
            "application/vnd.google.colaboratory.intrinsic+json": {
              "type": "string"
            },
            "text/plain": [
              "'f_x[i] = '"
            ]
          },
          "metadata": {
            "tags": []
          }
        },
        {
          "output_type": "display_data",
          "data": {
            "text/plain": [
              "array([[[ 9,  6,  7],\n",
              "        [ 9,  5,  8],\n",
              "        [ 0,  2,  1]],\n",
              "\n",
              "       [[ 4,  8, 18],\n",
              "        [20, 16, 22],\n",
              "        [ 0, 10, 16]],\n",
              "\n",
              "       [[ 3, 28,  7],\n",
              "        [15, 20, 28],\n",
              "        [12, 12,  7]],\n",
              "\n",
              "       [[ 6, 16,  9],\n",
              "        [18, 28, 19],\n",
              "        [16,  8,  9]],\n",
              "\n",
              "       [[20, 27, 27],\n",
              "        [21, 19, 27],\n",
              "        [12,  5, 12]]])"
            ]
          },
          "metadata": {
            "tags": []
          }
        }
      ]
    },
    {
      "cell_type": "markdown",
      "metadata": {
        "id": "pFwpK0On17jg"
      },
      "source": [
        "# Polynoms f(x) and g(x) for each server - sum result along 0 axis: f(a_n) and g(a_n), a_n = 1...N "
      ]
    },
    {
      "cell_type": "code",
      "metadata": {
        "colab": {
          "base_uri": "https://localhost:8080/",
          "height": 154
        },
        "id": "rDtrRW_X17jg",
        "outputId": "d9b2df8f-b7be-4f19-83a0-196cc3f0edcb"
      },
      "source": [
        "f_x_i = np.zeros([N,m,n], dtype= object)\n",
        "g_x_i = np.zeros([N,m,n], dtype= object)\n",
        "for i in range(N):\n",
        "    f_x_i[i] = f_x[i].sum(axis = 0) % p\n",
        "    g_x_i[i] = g_x[i].sum(axis = 0) % p\n",
        "\n",
        "display('f_x_i[i] = ', f_x_i[1].astype('int'))\n",
        "display('f_x_i[i]*g_x_i[i] = ', (f_x_i[1]*g_x_i[1]))"
      ],
      "execution_count": 53,
      "outputs": [
        {
          "output_type": "display_data",
          "data": {
            "application/vnd.google.colaboratory.intrinsic+json": {
              "type": "string"
            },
            "text/plain": [
              "'f_x_i[i] = '"
            ]
          },
          "metadata": {
            "tags": []
          }
        },
        {
          "output_type": "display_data",
          "data": {
            "text/plain": [
              "array([[13, 27, 10],\n",
              "       [25,  1, 17],\n",
              "       [11,  8, 16]])"
            ]
          },
          "metadata": {
            "tags": []
          }
        },
        {
          "output_type": "display_data",
          "data": {
            "application/vnd.google.colaboratory.intrinsic+json": {
              "type": "string"
            },
            "text/plain": [
              "'f_x_i[i]*g_x_i[i] = '"
            ]
          },
          "metadata": {
            "tags": []
          }
        },
        {
          "output_type": "display_data",
          "data": {
            "text/plain": [
              "array([[182.0, 594.0, 270.0],\n",
              "       [325.0, 27.0, 272.0],\n",
              "       [253.0, 200.0, 224.0]], dtype=object)"
            ]
          },
          "metadata": {
            "tags": []
          }
        }
      ]
    },
    {
      "cell_type": "markdown",
      "metadata": {
        "id": "E6F-NxVA17jh"
      },
      "source": [
        "# Server calculations imitation: h(a_n) = f(a_n) * g(a_n), a_n = 1...N"
      ]
    },
    {
      "cell_type": "code",
      "metadata": {
        "colab": {
          "base_uri": "https://localhost:8080/",
          "height": 1000
        },
        "id": "w0vTGyAS17jh",
        "outputId": "aaecb575-05ae-4188-ba4a-db10cd5c29e4"
      },
      "source": [
        "h_i = np.zeros([N,m,n], dtype= object)\n",
        "for server in range(N):\n",
        "    h_i[server] = (f_x_i[server] @ g_x_i[server]) % p\n",
        "    \n",
        "# h_i = h_i.reshape([N,1])\n",
        "display('h_i = ', h_i)"
      ],
      "execution_count": 105,
      "outputs": [
        {
          "output_type": "display_data",
          "data": {
            "application/vnd.google.colaboratory.intrinsic+json": {
              "type": "string"
            },
            "text/plain": [
              "'h_i = '"
            ]
          },
          "metadata": {
            "tags": []
          }
        },
        {
          "output_type": "display_data",
          "data": {
            "text/plain": [
              "array([[[5.0, 16.0, 0.0],\n",
              "        [25.0, 2.0, 12.0],\n",
              "        [19.0, 25.0, 16.0]],\n",
              "\n",
              "       [[9.0, 18.0, 24.0],\n",
              "        [0.0, 16.0, 1.0],\n",
              "        [17.0, 17.0, 11.0]],\n",
              "\n",
              "       [[11.0, 23.0, 10.0],\n",
              "        [24.0, 25.0, 0.0],\n",
              "        [28.0, 21.0, 23.0]],\n",
              "\n",
              "       [[3.0, 16.0, 14.0],\n",
              "        [8.0, 7.0, 19.0],\n",
              "        [13.0, 4.0, 25.0]],\n",
              "\n",
              "       [[2.0, 28.0, 21.0],\n",
              "        [18.0, 14.0, 16.0],\n",
              "        [15.0, 1.0, 16.0]],\n",
              "\n",
              "       [[25.0, 27.0, 17.0],\n",
              "        [4.0, 25.0, 9.0],\n",
              "        [4.0, 12.0, 12.0]],\n",
              "\n",
              "       [[16.0, 11.0, 2.0],\n",
              "        [24.0, 24.0, 15.0],\n",
              "        [12.0, 8.0, 4.0]],\n",
              "\n",
              "       [[16.0, 13.0, 2.0],\n",
              "        [4.0, 17.0, 14.0],\n",
              "        [27.0, 12.0, 24.0]],\n",
              "\n",
              "       [[12.0, 3.0, 14.0],\n",
              "        [26.0, 28.0, 0.0],\n",
              "        [6.0, 11.0, 14.0]],\n",
              "\n",
              "       [[5.0, 24.0, 19.0],\n",
              "        [4.0, 8.0, 5.0],\n",
              "        [18.0, 3.0, 2.0]],\n",
              "\n",
              "       [[0.0, 9.0, 1.0],\n",
              "        [6.0, 17.0, 2.0],\n",
              "        [15.0, 5.0, 11.0]],\n",
              "\n",
              "       [[27.0, 11.0, 6.0],\n",
              "        [19.0, 22.0, 11.0],\n",
              "        [4.0, 14.0, 22.0]],\n",
              "\n",
              "       [[17.0, 26.0, 0.0],\n",
              "        [3.0, 20.0, 13.0],\n",
              "        [0.0, 3.0, 1.0]],\n",
              "\n",
              "       [[21.0, 10.0, 25.0],\n",
              "        [0.0, 9.0, 26.0],\n",
              "        [26.0, 25.0, 4.0]],\n",
              "\n",
              "       [[16.0, 0.0, 2.0],\n",
              "        [22.0, 21.0, 3.0],\n",
              "        [14.0, 18.0, 6.0]],\n",
              "\n",
              "       [[15.0, 24.0, 19.0],\n",
              "        [6.0, 7.0, 0.0],\n",
              "        [11.0, 28.0, 10.0]],\n",
              "\n",
              "       [[0.0, 4.0, 1.0],\n",
              "        [21.0, 3.0, 23.0],\n",
              "        [16.0, 10.0, 16.0]],\n",
              "\n",
              "       [[24.0, 1.0, 20.0],\n",
              "        [25.0, 1.0, 15.0],\n",
              "        [7.0, 28.0, 17.0]]], dtype=object)"
            ]
          },
          "metadata": {
            "tags": []
          }
        }
      ]
    },
    {
      "cell_type": "markdown",
      "metadata": {
        "id": "qxUcAAtH17jh"
      },
      "source": [
        "# Decoding using inverse Vandermond matrix"
      ]
    },
    {
      "cell_type": "code",
      "metadata": {
        "colab": {
          "base_uri": "https://localhost:8080/"
        },
        "id": "VuP0Re7U17jh",
        "outputId": "f99d1315-9a59-40f3-8034-84a0cbde7b68"
      },
      "source": [
        "# find all numbers from zero to max value in the degree table\n",
        "numbers_range = np.arange(0, max(J)+1).astype('object')\n",
        "print('Range 0 to max power =', numbers_range)\n",
        "\n",
        "# find all numbers from the degree table\n",
        "degree_range_in_table = J\n",
        "print('All powers in table = ', degree_range_in_table)\n",
        "\n",
        "# find all numbers from the numbers_range which are not in the degree table (to delete)\n",
        "degree_to_delete = np.delete(numbers_range, obj = degree_range_in_table.astype(np.int64), axis = 0)\n",
        "print('Powers with zero coefficients = ', degree_to_delete)"
      ],
      "execution_count": 106,
      "outputs": [
        {
          "output_type": "stream",
          "text": [
            "Range 0 to max power = [0.0 1.0 2.0 3.0 4.0 5.0 6.0 7.0 8.0 9.0 10.0 11.0 12.0 13.0 14.0 15.0\n",
            " 16.0 17.0 18.0 19.0 20.0 21.0 22.0]\n",
            "All powers in table =  [0.0 1.0 2.0 3.0 4.0 5.0 6.0 7.0 8.0 9.0 10.0 11.0 12.0 15.0 18.0 19.0\n",
            " 21.0 22.0]\n",
            "Powers with zero coefficients =  [13.0 14.0 16.0 17.0 20.0]\n"
          ],
          "name": "stdout"
        }
      ]
    },
    {
      "cell_type": "markdown",
      "metadata": {
        "id": "8Eg-On8G7Tcj"
      },
      "source": [
        "# Vandermond matrix generation"
      ]
    },
    {
      "cell_type": "code",
      "metadata": {
        "colab": {
          "base_uri": "https://localhost:8080/"
        },
        "id": "BpTb95Ei17jh",
        "outputId": "a66fcaef-fb7e-4eed-d319-52b54b28d5a0"
      },
      "source": [
        "vand = np.zeros([N,int(max(J)+1)], dtype= object)\n",
        "for a in range(1, N+1):\n",
        "    vand[a-1] = np.array([a**x for x in range(int(max(J)+1))], dtype= object) % p\n",
        "vand"
      ],
      "execution_count": 107,
      "outputs": [
        {
          "output_type": "execute_result",
          "data": {
            "text/plain": [
              "array([[1, 1, 1, 1, 1, 1, 1, 1, 1, 1, 1, 1, 1, 1, 1, 1, 1, 1, 1, 1, 1, 1,\n",
              "        1],\n",
              "       [1, 2, 4, 8, 16, 3, 6, 12, 24, 19, 9, 18, 7, 14, 28, 27, 25, 21,\n",
              "        13, 26, 23, 17, 5],\n",
              "       [1, 3, 9, 27, 23, 11, 4, 12, 7, 21, 5, 15, 16, 19, 28, 26, 20, 2,\n",
              "        6, 18, 25, 17, 22],\n",
              "       [1, 4, 16, 6, 24, 9, 7, 28, 25, 13, 23, 5, 20, 22, 1, 4, 16, 6,\n",
              "        24, 9, 7, 28, 25],\n",
              "       [1, 5, 25, 9, 16, 22, 23, 28, 24, 4, 20, 13, 7, 6, 1, 5, 25, 9,\n",
              "        16, 22, 23, 28, 24],\n",
              "       [1, 6, 7, 13, 20, 4, 24, 28, 23, 22, 16, 9, 25, 5, 1, 6, 7, 13,\n",
              "        20, 4, 24, 28, 23],\n",
              "       [1, 7, 20, 24, 23, 16, 25, 1, 7, 20, 24, 23, 16, 25, 1, 7, 20, 24,\n",
              "        23, 16, 25, 1, 7],\n",
              "       [1, 8, 6, 19, 7, 27, 13, 17, 20, 15, 4, 3, 24, 18, 28, 21, 23, 10,\n",
              "        22, 2, 16, 12, 9],\n",
              "       [1, 9, 23, 4, 7, 5, 16, 28, 20, 6, 25, 22, 24, 13, 1, 9, 23, 4, 7,\n",
              "        5, 16, 28, 20],\n",
              "       [1, 10, 13, 14, 24, 8, 22, 17, 25, 18, 6, 2, 20, 26, 28, 19, 16,\n",
              "        15, 5, 21, 7, 12, 4],\n",
              "       [1, 11, 5, 26, 25, 14, 9, 12, 16, 2, 22, 10, 23, 21, 28, 18, 24,\n",
              "        3, 4, 15, 20, 17, 13],\n",
              "       [1, 12, 28, 17, 1, 12, 28, 17, 1, 12, 28, 17, 1, 12, 28, 17, 1,\n",
              "        12, 28, 17, 1, 12, 28],\n",
              "       [1, 13, 24, 22, 25, 6, 20, 28, 16, 5, 7, 4, 23, 9, 1, 13, 24, 22,\n",
              "        25, 6, 20, 28, 16],\n",
              "       [1, 14, 22, 18, 20, 19, 5, 12, 23, 3, 13, 8, 25, 2, 28, 15, 7, 11,\n",
              "        9, 10, 24, 17, 6],\n",
              "       [1, 15, 22, 11, 20, 10, 5, 17, 23, 26, 13, 21, 25, 27, 28, 14, 7,\n",
              "        18, 9, 19, 24, 12, 6],\n",
              "       [1, 16, 24, 7, 25, 23, 20, 1, 16, 24, 7, 25, 23, 20, 1, 16, 24, 7,\n",
              "        25, 23, 20, 1, 16],\n",
              "       [1, 17, 28, 12, 1, 17, 28, 12, 1, 17, 28, 12, 1, 17, 28, 12, 1,\n",
              "        17, 28, 12, 1, 17, 28],\n",
              "       [1, 18, 5, 3, 25, 15, 9, 17, 16, 27, 22, 19, 23, 8, 28, 11, 24,\n",
              "        26, 4, 14, 20, 12, 13]], dtype=object)"
            ]
          },
          "metadata": {
            "tags": []
          },
          "execution_count": 107
        }
      ]
    },
    {
      "cell_type": "markdown",
      "metadata": {
        "id": "q5oINCej7Y3M"
      },
      "source": [
        "# Cut degrees with zero coefficients for Vandermond matrix"
      ]
    },
    {
      "cell_type": "code",
      "metadata": {
        "colab": {
          "base_uri": "https://localhost:8080/"
        },
        "id": "PVJSgycx17ji",
        "outputId": "cf52d91d-07c6-41ac-e261-56c60db8115c"
      },
      "source": [
        "cut_vand = np.delete(vand, obj = degree_to_delete.astype(np.int64), axis = 1) # delete places with zero coeffs of x_i\n",
        "print(cut_vand.shape)\n",
        "cut_vand"
      ],
      "execution_count": 108,
      "outputs": [
        {
          "output_type": "stream",
          "text": [
            "(18, 18)\n"
          ],
          "name": "stdout"
        },
        {
          "output_type": "execute_result",
          "data": {
            "text/plain": [
              "array([[1, 1, 1, 1, 1, 1, 1, 1, 1, 1, 1, 1, 1, 1, 1, 1, 1, 1],\n",
              "       [1, 2, 4, 8, 16, 3, 6, 12, 24, 19, 9, 18, 7, 27, 13, 26, 17, 5],\n",
              "       [1, 3, 9, 27, 23, 11, 4, 12, 7, 21, 5, 15, 16, 26, 6, 18, 17, 22],\n",
              "       [1, 4, 16, 6, 24, 9, 7, 28, 25, 13, 23, 5, 20, 4, 24, 9, 28, 25],\n",
              "       [1, 5, 25, 9, 16, 22, 23, 28, 24, 4, 20, 13, 7, 5, 16, 22, 28, 24],\n",
              "       [1, 6, 7, 13, 20, 4, 24, 28, 23, 22, 16, 9, 25, 6, 20, 4, 28, 23],\n",
              "       [1, 7, 20, 24, 23, 16, 25, 1, 7, 20, 24, 23, 16, 7, 23, 16, 1, 7],\n",
              "       [1, 8, 6, 19, 7, 27, 13, 17, 20, 15, 4, 3, 24, 21, 22, 2, 12, 9],\n",
              "       [1, 9, 23, 4, 7, 5, 16, 28, 20, 6, 25, 22, 24, 9, 7, 5, 28, 20],\n",
              "       [1, 10, 13, 14, 24, 8, 22, 17, 25, 18, 6, 2, 20, 19, 5, 21, 12, 4],\n",
              "       [1, 11, 5, 26, 25, 14, 9, 12, 16, 2, 22, 10, 23, 18, 4, 15, 17,\n",
              "        13],\n",
              "       [1, 12, 28, 17, 1, 12, 28, 17, 1, 12, 28, 17, 1, 17, 28, 17, 12,\n",
              "        28],\n",
              "       [1, 13, 24, 22, 25, 6, 20, 28, 16, 5, 7, 4, 23, 13, 25, 6, 28, 16],\n",
              "       [1, 14, 22, 18, 20, 19, 5, 12, 23, 3, 13, 8, 25, 15, 9, 10, 17, 6],\n",
              "       [1, 15, 22, 11, 20, 10, 5, 17, 23, 26, 13, 21, 25, 14, 9, 19, 12,\n",
              "        6],\n",
              "       [1, 16, 24, 7, 25, 23, 20, 1, 16, 24, 7, 25, 23, 16, 25, 23, 1,\n",
              "        16],\n",
              "       [1, 17, 28, 12, 1, 17, 28, 12, 1, 17, 28, 12, 1, 12, 28, 12, 17,\n",
              "        28],\n",
              "       [1, 18, 5, 3, 25, 15, 9, 17, 16, 27, 22, 19, 23, 11, 4, 14, 12,\n",
              "        13]], dtype=object)"
            ]
          },
          "metadata": {
            "tags": []
          },
          "execution_count": 108
        }
      ]
    },
    {
      "cell_type": "markdown",
      "metadata": {
        "id": "YNbWnfFO7sdc"
      },
      "source": [
        "# Find the inverse Vandermond matrix in the finite field"
      ]
    },
    {
      "cell_type": "code",
      "metadata": {
        "id": "Bg5zJquCG8hQ"
      },
      "source": [
        "from sympy import Matrix, pprint"
      ],
      "execution_count": 109,
      "outputs": []
    },
    {
      "cell_type": "code",
      "metadata": {
        "id": "xA3B79rWG-Ip"
      },
      "source": [
        "VAND = Matrix(cut_vand) # change type for our cut_vand matrix"
      ],
      "execution_count": 110,
      "outputs": []
    },
    {
      "cell_type": "code",
      "metadata": {
        "colab": {
          "base_uri": "https://localhost:8080/"
        },
        "id": "_Zy56b_4HC2-",
        "outputId": "45471a0e-877f-449e-a89b-5212091485f2"
      },
      "source": [
        "pprint(VAND)"
      ],
      "execution_count": 111,
      "outputs": [
        {
          "output_type": "stream",
          "text": [
            "⎡1  1   1   1   1   1   1   1   1   1   1   1   1   1   1   1   1   1 ⎤\n",
            "⎢                                                                     ⎥\n",
            "⎢1  2   4   8   16  3   6   12  24  19  9   18  7   27  13  26  17  5 ⎥\n",
            "⎢                                                                     ⎥\n",
            "⎢1  3   9   27  23  11  4   12  7   21  5   15  16  26  6   18  17  22⎥\n",
            "⎢                                                                     ⎥\n",
            "⎢1  4   16  6   24  9   7   28  25  13  23  5   20  4   24  9   28  25⎥\n",
            "⎢                                                                     ⎥\n",
            "⎢1  5   25  9   16  22  23  28  24  4   20  13  7   5   16  22  28  24⎥\n",
            "⎢                                                                     ⎥\n",
            "⎢1  6   7   13  20  4   24  28  23  22  16  9   25  6   20  4   28  23⎥\n",
            "⎢                                                                     ⎥\n",
            "⎢1  7   20  24  23  16  25  1   7   20  24  23  16  7   23  16  1   7 ⎥\n",
            "⎢                                                                     ⎥\n",
            "⎢1  8   6   19  7   27  13  17  20  15  4   3   24  21  22  2   12  9 ⎥\n",
            "⎢                                                                     ⎥\n",
            "⎢1  9   23  4   7   5   16  28  20  6   25  22  24  9   7   5   28  20⎥\n",
            "⎢                                                                     ⎥\n",
            "⎢1  10  13  14  24  8   22  17  25  18  6   2   20  19  5   21  12  4 ⎥\n",
            "⎢                                                                     ⎥\n",
            "⎢1  11  5   26  25  14  9   12  16  2   22  10  23  18  4   15  17  13⎥\n",
            "⎢                                                                     ⎥\n",
            "⎢1  12  28  17  1   12  28  17  1   12  28  17  1   17  28  17  12  28⎥\n",
            "⎢                                                                     ⎥\n",
            "⎢1  13  24  22  25  6   20  28  16  5   7   4   23  13  25  6   28  16⎥\n",
            "⎢                                                                     ⎥\n",
            "⎢1  14  22  18  20  19  5   12  23  3   13  8   25  15  9   10  17  6 ⎥\n",
            "⎢                                                                     ⎥\n",
            "⎢1  15  22  11  20  10  5   17  23  26  13  21  25  14  9   19  12  6 ⎥\n",
            "⎢                                                                     ⎥\n",
            "⎢1  16  24  7   25  23  20  1   16  24  7   25  23  16  25  23  1   16⎥\n",
            "⎢                                                                     ⎥\n",
            "⎢1  17  28  12  1   17  28  12  1   17  28  12  1   12  28  12  17  28⎥\n",
            "⎢                                                                     ⎥\n",
            "⎣1  18  5   3   25  15  9   17  16  27  22  19  23  11  4   14  12  13⎦\n"
          ],
          "name": "stdout"
        }
      ]
    },
    {
      "cell_type": "code",
      "metadata": {
        "id": "vexyKlO0HKN1"
      },
      "source": [
        "VAND = VAND.inv_mod(p) # find inverse matrix in the finite field"
      ],
      "execution_count": 112,
      "outputs": []
    },
    {
      "cell_type": "code",
      "metadata": {
        "colab": {
          "base_uri": "https://localhost:8080/"
        },
        "id": "YIfye9UiKuwX",
        "outputId": "72b4a8b8-c124-49c6-9c3c-a3b55b5e8689"
      },
      "source": [
        "VAND"
      ],
      "execution_count": 114,
      "outputs": [
        {
          "output_type": "execute_result",
          "data": {
            "text/plain": [
              "Matrix([\n",
              "[12,  7, 17,  8, 22, 17,  4, 23, 21, 26, 16,  5, 18, 12, 27, 12, 22, 22],\n",
              "[ 1,  3, 27, 13, 27, 19, 18, 19, 24,  2, 27, 27, 11, 19,  2, 17,  4,  1],\n",
              "[10, 11,  6, 11,  7, 12, 21,  7, 15, 26, 23, 13,  7, 21, 14, 21,  3,  4],\n",
              "[24,  8,  4, 25,  2, 20,  3, 15, 11, 22, 19, 22, 26, 17, 20, 28, 13, 11],\n",
              "[25,  6,  2,  1, 11,  1, 23, 23, 17,  2, 10, 11, 10,  4,  4, 21, 25,  7],\n",
              "[13,  4, 13,  1,  5,  7, 20, 19,  5, 24,  5, 20,  0, 20,  5, 14, 27,  1],\n",
              "[ 4,  8,  9, 24, 12,  4,  3, 19,  2,  2,  3, 23, 16, 28, 11, 22, 10,  3],\n",
              "[20, 19, 17, 17,  1, 27, 15, 16, 16, 12, 25, 18, 11,  9, 19, 23,  7, 18],\n",
              "[ 4,  3, 20, 26, 15, 14, 13,  8, 24, 25, 15, 15, 15, 26, 27, 19, 16,  5],\n",
              "[ 3, 13, 23,  9, 17, 25,  2,  1, 24, 21, 28, 10, 25, 17,  7,  8, 22,  6],\n",
              "[14, 24, 28, 17,  2, 20, 28, 27,  3, 10, 11,  3,  5, 12, 11,  5, 23, 18],\n",
              "[27, 20, 25,  0, 15,  5, 20, 23, 18,  5, 16,  6,  4, 16, 23, 24, 26, 17],\n",
              "[25, 10, 21, 12, 17, 25, 20,  5,  3,  2, 13, 19, 23,  1, 11,  6, 20, 28],\n",
              "[ 0,  8, 25, 25, 15, 15, 28, 14,  2,  2,  8, 24,  0, 24, 10,  0, 23,  9],\n",
              "[ 2, 16, 28,  0,  7, 19, 27, 17, 15,  1, 10,  6, 25, 14, 16,  8, 11, 10],\n",
              "[23,  6, 14,  2, 18, 21, 19, 18,  4, 20, 23, 21,  9,  7,  4, 12, 12, 28],\n",
              "[19, 12, 22, 17,  2,  8, 16, 18, 27, 14,  2, 28, 14, 17,  4, 19,  5, 17],\n",
              "[ 7, 25, 18, 24,  8,  2, 10, 18,  1, 16,  7, 19, 13, 26, 17,  2, 21, 27]])"
            ]
          },
          "metadata": {
            "tags": []
          },
          "execution_count": 114
        }
      ]
    },
    {
      "cell_type": "code",
      "metadata": {
        "id": "MxP5Xbe9Ovgy"
      },
      "source": [
        "vand_inv = np.array(VAND).astype(np.int64) # convert to numpy array"
      ],
      "execution_count": 115,
      "outputs": []
    },
    {
      "cell_type": "code",
      "metadata": {
        "colab": {
          "base_uri": "https://localhost:8080/"
        },
        "id": "iT0-1bRvO1hX",
        "outputId": "ff57ed3a-4eb6-44ef-89c4-5f1054595a7c"
      },
      "source": [
        "vand_inv"
      ],
      "execution_count": 116,
      "outputs": [
        {
          "output_type": "execute_result",
          "data": {
            "text/plain": [
              "array([[12,  7, 17,  8, 22, 17,  4, 23, 21, 26, 16,  5, 18, 12, 27, 12,\n",
              "        22, 22],\n",
              "       [ 1,  3, 27, 13, 27, 19, 18, 19, 24,  2, 27, 27, 11, 19,  2, 17,\n",
              "         4,  1],\n",
              "       [10, 11,  6, 11,  7, 12, 21,  7, 15, 26, 23, 13,  7, 21, 14, 21,\n",
              "         3,  4],\n",
              "       [24,  8,  4, 25,  2, 20,  3, 15, 11, 22, 19, 22, 26, 17, 20, 28,\n",
              "        13, 11],\n",
              "       [25,  6,  2,  1, 11,  1, 23, 23, 17,  2, 10, 11, 10,  4,  4, 21,\n",
              "        25,  7],\n",
              "       [13,  4, 13,  1,  5,  7, 20, 19,  5, 24,  5, 20,  0, 20,  5, 14,\n",
              "        27,  1],\n",
              "       [ 4,  8,  9, 24, 12,  4,  3, 19,  2,  2,  3, 23, 16, 28, 11, 22,\n",
              "        10,  3],\n",
              "       [20, 19, 17, 17,  1, 27, 15, 16, 16, 12, 25, 18, 11,  9, 19, 23,\n",
              "         7, 18],\n",
              "       [ 4,  3, 20, 26, 15, 14, 13,  8, 24, 25, 15, 15, 15, 26, 27, 19,\n",
              "        16,  5],\n",
              "       [ 3, 13, 23,  9, 17, 25,  2,  1, 24, 21, 28, 10, 25, 17,  7,  8,\n",
              "        22,  6],\n",
              "       [14, 24, 28, 17,  2, 20, 28, 27,  3, 10, 11,  3,  5, 12, 11,  5,\n",
              "        23, 18],\n",
              "       [27, 20, 25,  0, 15,  5, 20, 23, 18,  5, 16,  6,  4, 16, 23, 24,\n",
              "        26, 17],\n",
              "       [25, 10, 21, 12, 17, 25, 20,  5,  3,  2, 13, 19, 23,  1, 11,  6,\n",
              "        20, 28],\n",
              "       [ 0,  8, 25, 25, 15, 15, 28, 14,  2,  2,  8, 24,  0, 24, 10,  0,\n",
              "        23,  9],\n",
              "       [ 2, 16, 28,  0,  7, 19, 27, 17, 15,  1, 10,  6, 25, 14, 16,  8,\n",
              "        11, 10],\n",
              "       [23,  6, 14,  2, 18, 21, 19, 18,  4, 20, 23, 21,  9,  7,  4, 12,\n",
              "        12, 28],\n",
              "       [19, 12, 22, 17,  2,  8, 16, 18, 27, 14,  2, 28, 14, 17,  4, 19,\n",
              "         5, 17],\n",
              "       [ 7, 25, 18, 24,  8,  2, 10, 18,  1, 16,  7, 19, 13, 26, 17,  2,\n",
              "        21, 27]])"
            ]
          },
          "metadata": {
            "tags": []
          },
          "execution_count": 116
        }
      ]
    },
    {
      "cell_type": "markdown",
      "metadata": {
        "id": "sskL5AyHsvh0"
      },
      "source": [
        "# Check if inverse transform is correct"
      ]
    },
    {
      "cell_type": "code",
      "metadata": {
        "colab": {
          "base_uri": "https://localhost:8080/"
        },
        "id": "saGrBLkXOWQX",
        "outputId": "3a9119f4-59d7-4a08-ea16-df3d0d33892e"
      },
      "source": [
        "vand_inv @ cut_vand % p"
      ],
      "execution_count": 117,
      "outputs": [
        {
          "output_type": "execute_result",
          "data": {
            "text/plain": [
              "array([[1, 0, 0, 0, 0, 0, 0, 0, 0, 0, 0, 0, 0, 0, 0, 0, 0, 0],\n",
              "       [0, 1, 0, 0, 0, 0, 0, 0, 0, 0, 0, 0, 0, 0, 0, 0, 0, 0],\n",
              "       [0, 0, 1, 0, 0, 0, 0, 0, 0, 0, 0, 0, 0, 0, 0, 0, 0, 0],\n",
              "       [0, 0, 0, 1, 0, 0, 0, 0, 0, 0, 0, 0, 0, 0, 0, 0, 0, 0],\n",
              "       [0, 0, 0, 0, 1, 0, 0, 0, 0, 0, 0, 0, 0, 0, 0, 0, 0, 0],\n",
              "       [0, 0, 0, 0, 0, 1, 0, 0, 0, 0, 0, 0, 0, 0, 0, 0, 0, 0],\n",
              "       [0, 0, 0, 0, 0, 0, 1, 0, 0, 0, 0, 0, 0, 0, 0, 0, 0, 0],\n",
              "       [0, 0, 0, 0, 0, 0, 0, 1, 0, 0, 0, 0, 0, 0, 0, 0, 0, 0],\n",
              "       [0, 0, 0, 0, 0, 0, 0, 0, 1, 0, 0, 0, 0, 0, 0, 0, 0, 0],\n",
              "       [0, 0, 0, 0, 0, 0, 0, 0, 0, 1, 0, 0, 0, 0, 0, 0, 0, 0],\n",
              "       [0, 0, 0, 0, 0, 0, 0, 0, 0, 0, 1, 0, 0, 0, 0, 0, 0, 0],\n",
              "       [0, 0, 0, 0, 0, 0, 0, 0, 0, 0, 0, 1, 0, 0, 0, 0, 0, 0],\n",
              "       [0, 0, 0, 0, 0, 0, 0, 0, 0, 0, 0, 0, 1, 0, 0, 0, 0, 0],\n",
              "       [0, 0, 0, 0, 0, 0, 0, 0, 0, 0, 0, 0, 0, 1, 0, 0, 0, 0],\n",
              "       [0, 0, 0, 0, 0, 0, 0, 0, 0, 0, 0, 0, 0, 0, 1, 0, 0, 0],\n",
              "       [0, 0, 0, 0, 0, 0, 0, 0, 0, 0, 0, 0, 0, 0, 0, 1, 0, 0],\n",
              "       [0, 0, 0, 0, 0, 0, 0, 0, 0, 0, 0, 0, 0, 0, 0, 0, 1, 0],\n",
              "       [0, 0, 0, 0, 0, 0, 0, 0, 0, 0, 0, 0, 0, 0, 0, 0, 0, 1]],\n",
              "      dtype=object)"
            ]
          },
          "metadata": {
            "tags": []
          },
          "execution_count": 117
        }
      ]
    },
    {
      "cell_type": "code",
      "metadata": {
        "colab": {
          "base_uri": "https://localhost:8080/"
        },
        "id": "LzOYYxO_8G-6",
        "outputId": "ad6d2d9b-ec6a-416d-9ffb-4c7eb7dcf7f1"
      },
      "source": [
        " cut_vand @ vand_inv % p"
      ],
      "execution_count": 157,
      "outputs": [
        {
          "output_type": "execute_result",
          "data": {
            "text/plain": [
              "array([[1, 0, 0, 0, 0, 0, 0, 0, 0, 0, 0, 0, 0, 0, 0, 0, 0, 0],\n",
              "       [0, 1, 0, 0, 0, 0, 0, 0, 0, 0, 0, 0, 0, 0, 0, 0, 0, 0],\n",
              "       [0, 0, 1, 0, 0, 0, 0, 0, 0, 0, 0, 0, 0, 0, 0, 0, 0, 0],\n",
              "       [0, 0, 0, 1, 0, 0, 0, 0, 0, 0, 0, 0, 0, 0, 0, 0, 0, 0],\n",
              "       [0, 0, 0, 0, 1, 0, 0, 0, 0, 0, 0, 0, 0, 0, 0, 0, 0, 0],\n",
              "       [0, 0, 0, 0, 0, 1, 0, 0, 0, 0, 0, 0, 0, 0, 0, 0, 0, 0],\n",
              "       [0, 0, 0, 0, 0, 0, 1, 0, 0, 0, 0, 0, 0, 0, 0, 0, 0, 0],\n",
              "       [0, 0, 0, 0, 0, 0, 0, 1, 0, 0, 0, 0, 0, 0, 0, 0, 0, 0],\n",
              "       [0, 0, 0, 0, 0, 0, 0, 0, 1, 0, 0, 0, 0, 0, 0, 0, 0, 0],\n",
              "       [0, 0, 0, 0, 0, 0, 0, 0, 0, 1, 0, 0, 0, 0, 0, 0, 0, 0],\n",
              "       [0, 0, 0, 0, 0, 0, 0, 0, 0, 0, 1, 0, 0, 0, 0, 0, 0, 0],\n",
              "       [0, 0, 0, 0, 0, 0, 0, 0, 0, 0, 0, 1, 0, 0, 0, 0, 0, 0],\n",
              "       [0, 0, 0, 0, 0, 0, 0, 0, 0, 0, 0, 0, 1, 0, 0, 0, 0, 0],\n",
              "       [0, 0, 0, 0, 0, 0, 0, 0, 0, 0, 0, 0, 0, 1, 0, 0, 0, 0],\n",
              "       [0, 0, 0, 0, 0, 0, 0, 0, 0, 0, 0, 0, 0, 0, 1, 0, 0, 0],\n",
              "       [0, 0, 0, 0, 0, 0, 0, 0, 0, 0, 0, 0, 0, 0, 0, 1, 0, 0],\n",
              "       [0, 0, 0, 0, 0, 0, 0, 0, 0, 0, 0, 0, 0, 0, 0, 0, 1, 0],\n",
              "       [0, 0, 0, 0, 0, 0, 0, 0, 0, 0, 0, 0, 0, 0, 0, 0, 0, 1]],\n",
              "      dtype=object)"
            ]
          },
          "metadata": {
            "tags": []
          },
          "execution_count": 157
        }
      ]
    },
    {
      "cell_type": "markdown",
      "metadata": {
        "id": "a22OJnbk8R7Z"
      },
      "source": [
        "# Data restoring"
      ]
    },
    {
      "cell_type": "code",
      "metadata": {
        "id": "hpqrMKcM17jm",
        "colab": {
          "base_uri": "https://localhost:8080/"
        },
        "outputId": "6e8861e4-521f-44ad-c5c7-9b1cacf64da9"
      },
      "source": [
        "# since the product h has size m*n, the inverse Vandermond matrix should have same size\n",
        "multivand = np.zeros([N,N,m,n])\n",
        "\n",
        "for i in range(N):\n",
        "    for j in range(N):\n",
        "        multivand[i,j,:,:] = vand_inv[i,j] % p\n",
        "        \n",
        "multivand"
      ],
      "execution_count": 158,
      "outputs": [
        {
          "output_type": "execute_result",
          "data": {
            "text/plain": [
              "array([[[[12., 12., 12.],\n",
              "         [12., 12., 12.],\n",
              "         [12., 12., 12.]],\n",
              "\n",
              "        [[ 7.,  7.,  7.],\n",
              "         [ 7.,  7.,  7.],\n",
              "         [ 7.,  7.,  7.]],\n",
              "\n",
              "        [[17., 17., 17.],\n",
              "         [17., 17., 17.],\n",
              "         [17., 17., 17.]],\n",
              "\n",
              "        ...,\n",
              "\n",
              "        [[12., 12., 12.],\n",
              "         [12., 12., 12.],\n",
              "         [12., 12., 12.]],\n",
              "\n",
              "        [[22., 22., 22.],\n",
              "         [22., 22., 22.],\n",
              "         [22., 22., 22.]],\n",
              "\n",
              "        [[22., 22., 22.],\n",
              "         [22., 22., 22.],\n",
              "         [22., 22., 22.]]],\n",
              "\n",
              "\n",
              "       [[[ 1.,  1.,  1.],\n",
              "         [ 1.,  1.,  1.],\n",
              "         [ 1.,  1.,  1.]],\n",
              "\n",
              "        [[ 3.,  3.,  3.],\n",
              "         [ 3.,  3.,  3.],\n",
              "         [ 3.,  3.,  3.]],\n",
              "\n",
              "        [[27., 27., 27.],\n",
              "         [27., 27., 27.],\n",
              "         [27., 27., 27.]],\n",
              "\n",
              "        ...,\n",
              "\n",
              "        [[17., 17., 17.],\n",
              "         [17., 17., 17.],\n",
              "         [17., 17., 17.]],\n",
              "\n",
              "        [[ 4.,  4.,  4.],\n",
              "         [ 4.,  4.,  4.],\n",
              "         [ 4.,  4.,  4.]],\n",
              "\n",
              "        [[ 1.,  1.,  1.],\n",
              "         [ 1.,  1.,  1.],\n",
              "         [ 1.,  1.,  1.]]],\n",
              "\n",
              "\n",
              "       [[[10., 10., 10.],\n",
              "         [10., 10., 10.],\n",
              "         [10., 10., 10.]],\n",
              "\n",
              "        [[11., 11., 11.],\n",
              "         [11., 11., 11.],\n",
              "         [11., 11., 11.]],\n",
              "\n",
              "        [[ 6.,  6.,  6.],\n",
              "         [ 6.,  6.,  6.],\n",
              "         [ 6.,  6.,  6.]],\n",
              "\n",
              "        ...,\n",
              "\n",
              "        [[21., 21., 21.],\n",
              "         [21., 21., 21.],\n",
              "         [21., 21., 21.]],\n",
              "\n",
              "        [[ 3.,  3.,  3.],\n",
              "         [ 3.,  3.,  3.],\n",
              "         [ 3.,  3.,  3.]],\n",
              "\n",
              "        [[ 4.,  4.,  4.],\n",
              "         [ 4.,  4.,  4.],\n",
              "         [ 4.,  4.,  4.]]],\n",
              "\n",
              "\n",
              "       ...,\n",
              "\n",
              "\n",
              "       [[[23., 23., 23.],\n",
              "         [23., 23., 23.],\n",
              "         [23., 23., 23.]],\n",
              "\n",
              "        [[ 6.,  6.,  6.],\n",
              "         [ 6.,  6.,  6.],\n",
              "         [ 6.,  6.,  6.]],\n",
              "\n",
              "        [[14., 14., 14.],\n",
              "         [14., 14., 14.],\n",
              "         [14., 14., 14.]],\n",
              "\n",
              "        ...,\n",
              "\n",
              "        [[12., 12., 12.],\n",
              "         [12., 12., 12.],\n",
              "         [12., 12., 12.]],\n",
              "\n",
              "        [[12., 12., 12.],\n",
              "         [12., 12., 12.],\n",
              "         [12., 12., 12.]],\n",
              "\n",
              "        [[28., 28., 28.],\n",
              "         [28., 28., 28.],\n",
              "         [28., 28., 28.]]],\n",
              "\n",
              "\n",
              "       [[[19., 19., 19.],\n",
              "         [19., 19., 19.],\n",
              "         [19., 19., 19.]],\n",
              "\n",
              "        [[12., 12., 12.],\n",
              "         [12., 12., 12.],\n",
              "         [12., 12., 12.]],\n",
              "\n",
              "        [[22., 22., 22.],\n",
              "         [22., 22., 22.],\n",
              "         [22., 22., 22.]],\n",
              "\n",
              "        ...,\n",
              "\n",
              "        [[19., 19., 19.],\n",
              "         [19., 19., 19.],\n",
              "         [19., 19., 19.]],\n",
              "\n",
              "        [[ 5.,  5.,  5.],\n",
              "         [ 5.,  5.,  5.],\n",
              "         [ 5.,  5.,  5.]],\n",
              "\n",
              "        [[17., 17., 17.],\n",
              "         [17., 17., 17.],\n",
              "         [17., 17., 17.]]],\n",
              "\n",
              "\n",
              "       [[[ 7.,  7.,  7.],\n",
              "         [ 7.,  7.,  7.],\n",
              "         [ 7.,  7.,  7.]],\n",
              "\n",
              "        [[25., 25., 25.],\n",
              "         [25., 25., 25.],\n",
              "         [25., 25., 25.]],\n",
              "\n",
              "        [[18., 18., 18.],\n",
              "         [18., 18., 18.],\n",
              "         [18., 18., 18.]],\n",
              "\n",
              "        ...,\n",
              "\n",
              "        [[ 2.,  2.,  2.],\n",
              "         [ 2.,  2.,  2.],\n",
              "         [ 2.,  2.,  2.]],\n",
              "\n",
              "        [[21., 21., 21.],\n",
              "         [21., 21., 21.],\n",
              "         [21., 21., 21.]],\n",
              "\n",
              "        [[27., 27., 27.],\n",
              "         [27., 27., 27.],\n",
              "         [27., 27., 27.]]]])"
            ]
          },
          "metadata": {
            "tags": []
          },
          "execution_count": 158
        }
      ]
    },
    {
      "cell_type": "markdown",
      "metadata": {
        "id": "vkGFQQxv84lW"
      },
      "source": [
        "# Find coefficients using inverse Vandermond matrix and product h"
      ]
    },
    {
      "cell_type": "code",
      "metadata": {
        "colab": {
          "base_uri": "https://localhost:8080/"
        },
        "id": "l9zpd1uhzmzt",
        "outputId": "5687bbdc-f9f2-4525-8bbe-e05b9c06aeca"
      },
      "source": [
        "C = np.zeros([N,m,n],dtype = object)\r\n",
        "\r\n",
        "for i in range(m):\r\n",
        "    for j in range(n):\r\n",
        "        C[:,i,j] = multivand[:,:,i,j] @ h_i[:,i,j] % p\r\n",
        "C"
      ],
      "execution_count": 159,
      "outputs": [
        {
          "output_type": "execute_result",
          "data": {
            "text/plain": [
              "array([[[28.0, 9.0, 1.0],\n",
              "        [24.0, 17.0, 28.0],\n",
              "        [0.0, 14.0, 7.0]],\n",
              "\n",
              "       [[20.0, 27.0, 6.0],\n",
              "        [20.0, 3.0, 18.0],\n",
              "        [24.0, 3.0, 23.0]],\n",
              "\n",
              "       [[24.0, 23.0, 28.0],\n",
              "        [17.0, 23.0, 12.0],\n",
              "        [9.0, 4.0, 10.0]],\n",
              "\n",
              "       [[1.0, 20.0, 24.0],\n",
              "        [7.0, 21.0, 3.0],\n",
              "        [18.0, 10.0, 17.0]],\n",
              "\n",
              "       [[8.0, 10.0, 5.0],\n",
              "        [0.0, 23.0, 21.0],\n",
              "        [13.0, 18.0, 16.0]],\n",
              "\n",
              "       [[16.0, 21.0, 15.0],\n",
              "        [15.0, 8.0, 2.0],\n",
              "        [13.0, 17.0, 7.0]],\n",
              "\n",
              "       [[19.0, 21.0, 21.0],\n",
              "        [22.0, 27.0, 12.0],\n",
              "        [24.0, 15.0, 21.0]],\n",
              "\n",
              "       [[20.0, 12.0, 13.0],\n",
              "        [24.0, 8.0, 27.0],\n",
              "        [28.0, 0.0, 0.0]],\n",
              "\n",
              "       [[8.0, 10.0, 22.0],\n",
              "        [1.0, 24.0, 4.0],\n",
              "        [22.0, 12.0, 14.0]],\n",
              "\n",
              "       [[11.0, 9.0, 25.0],\n",
              "        [9.0, 10.0, 9.0],\n",
              "        [27.0, 18.0, 21.0]],\n",
              "\n",
              "       [[26.0, 5.0, 8.0],\n",
              "        [6.0, 11.0, 26.0],\n",
              "        [10.0, 10.0, 27.0]],\n",
              "\n",
              "       [[12.0, 16.0, 12.0],\n",
              "        [2.0, 5.0, 9.0],\n",
              "        [18.0, 22.0, 23.0]],\n",
              "\n",
              "       [[28.0, 19.0, 20.0],\n",
              "        [5.0, 17.0, 17.0],\n",
              "        [16.0, 10.0, 25.0]],\n",
              "\n",
              "       [[16.0, 4.0, 22.0],\n",
              "        [15.0, 9.0, 8.0],\n",
              "        [23.0, 27.0, 1.0]],\n",
              "\n",
              "       [[2.0, 1.0, 9.0],\n",
              "        [3.0, 27.0, 22.0],\n",
              "        [14.0, 4.0, 10.0]],\n",
              "\n",
              "       [[20.0, 27.0, 21.0],\n",
              "        [11.0, 20.0, 21.0],\n",
              "        [0.0, 19.0, 5.0]],\n",
              "\n",
              "       [[5.0, 9.0, 16.0],\n",
              "        [27.0, 15.0, 24.0],\n",
              "        [8.0, 16.0, 17.0]],\n",
              "\n",
              "       [[2.0, 5.0, 22.0],\n",
              "        [20.0, 24.0, 10.0],\n",
              "        [13.0, 9.0, 4.0]]], dtype=object)"
            ]
          },
          "metadata": {
            "tags": []
          },
          "execution_count": 159
        }
      ]
    },
    {
      "cell_type": "markdown",
      "metadata": {
        "id": "kJKqa6MD7DMO"
      },
      "source": [
        "# Combine this result in one matrix to compare"
      ]
    },
    {
      "cell_type": "code",
      "metadata": {
        "colab": {
          "base_uri": "https://localhost:8080/"
        },
        "id": "2AffFaOk20mZ",
        "outputId": "291524a8-8377-40a0-d11d-15675965d1db"
      },
      "source": [
        "step = 0\r\n",
        "result = np.zeros([9, 9])\r\n",
        "for i in range(m):\r\n",
        "    for j in range(n):\r\n",
        "        result[3*j:3*(j+1), 3*i:3*(i+1)] =  C[step]\r\n",
        "        step += 1\r\n",
        "result"
      ],
      "execution_count": 160,
      "outputs": [
        {
          "output_type": "execute_result",
          "data": {
            "text/plain": [
              "array([[28.,  9.,  1.,  1., 20., 24., 19., 21., 21.],\n",
              "       [24., 17., 28.,  7., 21.,  3., 22., 27., 12.],\n",
              "       [ 0., 14.,  7., 18., 10., 17., 24., 15., 21.],\n",
              "       [20., 27.,  6.,  8., 10.,  5., 20., 12., 13.],\n",
              "       [20.,  3., 18.,  0., 23., 21., 24.,  8., 27.],\n",
              "       [24.,  3., 23., 13., 18., 16., 28.,  0.,  0.],\n",
              "       [24., 23., 28., 16., 21., 15.,  8., 10., 22.],\n",
              "       [17., 23., 12., 15.,  8.,  2.,  1., 24.,  4.],\n",
              "       [ 9.,  4., 10., 13., 17.,  7., 22., 12., 14.]])"
            ]
          },
          "metadata": {
            "tags": []
          },
          "execution_count": 160
        }
      ]
    },
    {
      "cell_type": "markdown",
      "metadata": {
        "id": "Z8wKUumB63p3"
      },
      "source": [
        "# Lets compare achieved result with regular mat.mul\r\n",
        "It's work!"
      ]
    },
    {
      "cell_type": "code",
      "metadata": {
        "id": "-Y2VZOjM17jm",
        "colab": {
          "base_uri": "https://localhost:8080/"
        },
        "outputId": "657ae134-c52f-4f8e-85fe-2c9d5132eb52"
      },
      "source": [
        "REG_MAT_MUL == result"
      ],
      "execution_count": 156,
      "outputs": [
        {
          "output_type": "execute_result",
          "data": {
            "text/plain": [
              "matrix([[ True,  True,  True,  True,  True,  True,  True,  True,  True],\n",
              "        [ True,  True,  True,  True,  True,  True,  True,  True,  True],\n",
              "        [ True,  True,  True,  True,  True,  True,  True,  True,  True],\n",
              "        [ True,  True,  True,  True,  True,  True,  True,  True,  True],\n",
              "        [ True,  True,  True,  True,  True,  True,  True,  True,  True],\n",
              "        [ True,  True,  True,  True,  True,  True,  True,  True,  True],\n",
              "        [ True,  True,  True,  True,  True,  True,  True,  True,  True],\n",
              "        [ True,  True,  True,  True,  True,  True,  True,  True,  True],\n",
              "        [ True,  True,  True,  True,  True,  True,  True,  True,  True]])"
            ]
          },
          "metadata": {
            "tags": []
          },
          "execution_count": 156
        }
      ]
    }
  ]
}